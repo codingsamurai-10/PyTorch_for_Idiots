{
  "nbformat": 4,
  "nbformat_minor": 0,
  "metadata": {
    "colab": {
      "name": "NN.ipynb",
      "provenance": []
    },
    "kernelspec": {
      "name": "python3",
      "display_name": "Python 3"
    },
    "accelerator": "GPU",
    "widgets": {
      "application/vnd.jupyter.widget-state+json": {
        "d475f3b4a13946329a36a613081f7fef": {
          "model_module": "@jupyter-widgets/controls",
          "model_name": "HBoxModel",
          "state": {
            "_view_name": "HBoxView",
            "_dom_classes": [],
            "_model_name": "HBoxModel",
            "_view_module": "@jupyter-widgets/controls",
            "_model_module_version": "1.5.0",
            "_view_count": null,
            "_view_module_version": "1.5.0",
            "box_style": "",
            "layout": "IPY_MODEL_1dc7cb73892f4b7ebf75f61ddb9925dc",
            "_model_module": "@jupyter-widgets/controls",
            "children": [
              "IPY_MODEL_bd8716b4d0cd45cb8fc10ffeb7169988",
              "IPY_MODEL_f6570109ed86446a884f48ee1321c9cb"
            ]
          }
        },
        "1dc7cb73892f4b7ebf75f61ddb9925dc": {
          "model_module": "@jupyter-widgets/base",
          "model_name": "LayoutModel",
          "state": {
            "_view_name": "LayoutView",
            "grid_template_rows": null,
            "right": null,
            "justify_content": null,
            "_view_module": "@jupyter-widgets/base",
            "overflow": null,
            "_model_module_version": "1.2.0",
            "_view_count": null,
            "flex_flow": null,
            "width": null,
            "min_width": null,
            "border": null,
            "align_items": null,
            "bottom": null,
            "_model_module": "@jupyter-widgets/base",
            "top": null,
            "grid_column": null,
            "overflow_y": null,
            "overflow_x": null,
            "grid_auto_flow": null,
            "grid_area": null,
            "grid_template_columns": null,
            "flex": null,
            "_model_name": "LayoutModel",
            "justify_items": null,
            "grid_row": null,
            "max_height": null,
            "align_content": null,
            "visibility": null,
            "align_self": null,
            "height": null,
            "min_height": null,
            "padding": null,
            "grid_auto_rows": null,
            "grid_gap": null,
            "max_width": null,
            "order": null,
            "_view_module_version": "1.2.0",
            "grid_template_areas": null,
            "object_position": null,
            "object_fit": null,
            "grid_auto_columns": null,
            "margin": null,
            "display": null,
            "left": null
          }
        },
        "bd8716b4d0cd45cb8fc10ffeb7169988": {
          "model_module": "@jupyter-widgets/controls",
          "model_name": "IntProgressModel",
          "state": {
            "_view_name": "ProgressView",
            "style": "IPY_MODEL_9ba1f7211510418684fbd474d00216a6",
            "_dom_classes": [],
            "description": "",
            "_model_name": "IntProgressModel",
            "bar_style": "success",
            "max": 1,
            "_view_module": "@jupyter-widgets/controls",
            "_model_module_version": "1.5.0",
            "value": 1,
            "_view_count": null,
            "_view_module_version": "1.5.0",
            "orientation": "horizontal",
            "min": 0,
            "description_tooltip": null,
            "_model_module": "@jupyter-widgets/controls",
            "layout": "IPY_MODEL_cd0fd743392b4d50a37db276a2c20d69"
          }
        },
        "f6570109ed86446a884f48ee1321c9cb": {
          "model_module": "@jupyter-widgets/controls",
          "model_name": "HTMLModel",
          "state": {
            "_view_name": "HTMLView",
            "style": "IPY_MODEL_97d894e5b3264a06b60e82d2d366ef98",
            "_dom_classes": [],
            "description": "",
            "_model_name": "HTMLModel",
            "placeholder": "​",
            "_view_module": "@jupyter-widgets/controls",
            "_model_module_version": "1.5.0",
            "value": "9920512it [00:00, 20095316.25it/s]",
            "_view_count": null,
            "_view_module_version": "1.5.0",
            "description_tooltip": null,
            "_model_module": "@jupyter-widgets/controls",
            "layout": "IPY_MODEL_4a636fc611ff413a822f9471a1859ce9"
          }
        },
        "9ba1f7211510418684fbd474d00216a6": {
          "model_module": "@jupyter-widgets/controls",
          "model_name": "ProgressStyleModel",
          "state": {
            "_view_name": "StyleView",
            "_model_name": "ProgressStyleModel",
            "description_width": "",
            "_view_module": "@jupyter-widgets/base",
            "_model_module_version": "1.5.0",
            "_view_count": null,
            "_view_module_version": "1.2.0",
            "bar_color": null,
            "_model_module": "@jupyter-widgets/controls"
          }
        },
        "cd0fd743392b4d50a37db276a2c20d69": {
          "model_module": "@jupyter-widgets/base",
          "model_name": "LayoutModel",
          "state": {
            "_view_name": "LayoutView",
            "grid_template_rows": null,
            "right": null,
            "justify_content": null,
            "_view_module": "@jupyter-widgets/base",
            "overflow": null,
            "_model_module_version": "1.2.0",
            "_view_count": null,
            "flex_flow": null,
            "width": null,
            "min_width": null,
            "border": null,
            "align_items": null,
            "bottom": null,
            "_model_module": "@jupyter-widgets/base",
            "top": null,
            "grid_column": null,
            "overflow_y": null,
            "overflow_x": null,
            "grid_auto_flow": null,
            "grid_area": null,
            "grid_template_columns": null,
            "flex": null,
            "_model_name": "LayoutModel",
            "justify_items": null,
            "grid_row": null,
            "max_height": null,
            "align_content": null,
            "visibility": null,
            "align_self": null,
            "height": null,
            "min_height": null,
            "padding": null,
            "grid_auto_rows": null,
            "grid_gap": null,
            "max_width": null,
            "order": null,
            "_view_module_version": "1.2.0",
            "grid_template_areas": null,
            "object_position": null,
            "object_fit": null,
            "grid_auto_columns": null,
            "margin": null,
            "display": null,
            "left": null
          }
        },
        "97d894e5b3264a06b60e82d2d366ef98": {
          "model_module": "@jupyter-widgets/controls",
          "model_name": "DescriptionStyleModel",
          "state": {
            "_view_name": "StyleView",
            "_model_name": "DescriptionStyleModel",
            "description_width": "",
            "_view_module": "@jupyter-widgets/base",
            "_model_module_version": "1.5.0",
            "_view_count": null,
            "_view_module_version": "1.2.0",
            "_model_module": "@jupyter-widgets/controls"
          }
        },
        "4a636fc611ff413a822f9471a1859ce9": {
          "model_module": "@jupyter-widgets/base",
          "model_name": "LayoutModel",
          "state": {
            "_view_name": "LayoutView",
            "grid_template_rows": null,
            "right": null,
            "justify_content": null,
            "_view_module": "@jupyter-widgets/base",
            "overflow": null,
            "_model_module_version": "1.2.0",
            "_view_count": null,
            "flex_flow": null,
            "width": null,
            "min_width": null,
            "border": null,
            "align_items": null,
            "bottom": null,
            "_model_module": "@jupyter-widgets/base",
            "top": null,
            "grid_column": null,
            "overflow_y": null,
            "overflow_x": null,
            "grid_auto_flow": null,
            "grid_area": null,
            "grid_template_columns": null,
            "flex": null,
            "_model_name": "LayoutModel",
            "justify_items": null,
            "grid_row": null,
            "max_height": null,
            "align_content": null,
            "visibility": null,
            "align_self": null,
            "height": null,
            "min_height": null,
            "padding": null,
            "grid_auto_rows": null,
            "grid_gap": null,
            "max_width": null,
            "order": null,
            "_view_module_version": "1.2.0",
            "grid_template_areas": null,
            "object_position": null,
            "object_fit": null,
            "grid_auto_columns": null,
            "margin": null,
            "display": null,
            "left": null
          }
        },
        "594ed47aea6540f79c9c85e362398f84": {
          "model_module": "@jupyter-widgets/controls",
          "model_name": "HBoxModel",
          "state": {
            "_view_name": "HBoxView",
            "_dom_classes": [],
            "_model_name": "HBoxModel",
            "_view_module": "@jupyter-widgets/controls",
            "_model_module_version": "1.5.0",
            "_view_count": null,
            "_view_module_version": "1.5.0",
            "box_style": "",
            "layout": "IPY_MODEL_d018b76b5d1d47a481433748a995e759",
            "_model_module": "@jupyter-widgets/controls",
            "children": [
              "IPY_MODEL_3de785b1714e467a97ceb4d83ce3a192",
              "IPY_MODEL_62746e272f474b6b894e7f1e1a9a2de4"
            ]
          }
        },
        "d018b76b5d1d47a481433748a995e759": {
          "model_module": "@jupyter-widgets/base",
          "model_name": "LayoutModel",
          "state": {
            "_view_name": "LayoutView",
            "grid_template_rows": null,
            "right": null,
            "justify_content": null,
            "_view_module": "@jupyter-widgets/base",
            "overflow": null,
            "_model_module_version": "1.2.0",
            "_view_count": null,
            "flex_flow": null,
            "width": null,
            "min_width": null,
            "border": null,
            "align_items": null,
            "bottom": null,
            "_model_module": "@jupyter-widgets/base",
            "top": null,
            "grid_column": null,
            "overflow_y": null,
            "overflow_x": null,
            "grid_auto_flow": null,
            "grid_area": null,
            "grid_template_columns": null,
            "flex": null,
            "_model_name": "LayoutModel",
            "justify_items": null,
            "grid_row": null,
            "max_height": null,
            "align_content": null,
            "visibility": null,
            "align_self": null,
            "height": null,
            "min_height": null,
            "padding": null,
            "grid_auto_rows": null,
            "grid_gap": null,
            "max_width": null,
            "order": null,
            "_view_module_version": "1.2.0",
            "grid_template_areas": null,
            "object_position": null,
            "object_fit": null,
            "grid_auto_columns": null,
            "margin": null,
            "display": null,
            "left": null
          }
        },
        "3de785b1714e467a97ceb4d83ce3a192": {
          "model_module": "@jupyter-widgets/controls",
          "model_name": "IntProgressModel",
          "state": {
            "_view_name": "ProgressView",
            "style": "IPY_MODEL_b9909b65d2fd4052845cd00ee719f8d7",
            "_dom_classes": [],
            "description": "",
            "_model_name": "IntProgressModel",
            "bar_style": "success",
            "max": 1,
            "_view_module": "@jupyter-widgets/controls",
            "_model_module_version": "1.5.0",
            "value": 1,
            "_view_count": null,
            "_view_module_version": "1.5.0",
            "orientation": "horizontal",
            "min": 0,
            "description_tooltip": null,
            "_model_module": "@jupyter-widgets/controls",
            "layout": "IPY_MODEL_d4d42cdfe1ee45f6a0960f608f9b0f83"
          }
        },
        "62746e272f474b6b894e7f1e1a9a2de4": {
          "model_module": "@jupyter-widgets/controls",
          "model_name": "HTMLModel",
          "state": {
            "_view_name": "HTMLView",
            "style": "IPY_MODEL_b2d71be6820d4a849f416799d2398db5",
            "_dom_classes": [],
            "description": "",
            "_model_name": "HTMLModel",
            "placeholder": "​",
            "_view_module": "@jupyter-widgets/controls",
            "_model_module_version": "1.5.0",
            "value": "32768it [00:00, 252492.43it/s]",
            "_view_count": null,
            "_view_module_version": "1.5.0",
            "description_tooltip": null,
            "_model_module": "@jupyter-widgets/controls",
            "layout": "IPY_MODEL_cd18695d6d8049f3a909d2fb980fc70e"
          }
        },
        "b9909b65d2fd4052845cd00ee719f8d7": {
          "model_module": "@jupyter-widgets/controls",
          "model_name": "ProgressStyleModel",
          "state": {
            "_view_name": "StyleView",
            "_model_name": "ProgressStyleModel",
            "description_width": "",
            "_view_module": "@jupyter-widgets/base",
            "_model_module_version": "1.5.0",
            "_view_count": null,
            "_view_module_version": "1.2.0",
            "bar_color": null,
            "_model_module": "@jupyter-widgets/controls"
          }
        },
        "d4d42cdfe1ee45f6a0960f608f9b0f83": {
          "model_module": "@jupyter-widgets/base",
          "model_name": "LayoutModel",
          "state": {
            "_view_name": "LayoutView",
            "grid_template_rows": null,
            "right": null,
            "justify_content": null,
            "_view_module": "@jupyter-widgets/base",
            "overflow": null,
            "_model_module_version": "1.2.0",
            "_view_count": null,
            "flex_flow": null,
            "width": null,
            "min_width": null,
            "border": null,
            "align_items": null,
            "bottom": null,
            "_model_module": "@jupyter-widgets/base",
            "top": null,
            "grid_column": null,
            "overflow_y": null,
            "overflow_x": null,
            "grid_auto_flow": null,
            "grid_area": null,
            "grid_template_columns": null,
            "flex": null,
            "_model_name": "LayoutModel",
            "justify_items": null,
            "grid_row": null,
            "max_height": null,
            "align_content": null,
            "visibility": null,
            "align_self": null,
            "height": null,
            "min_height": null,
            "padding": null,
            "grid_auto_rows": null,
            "grid_gap": null,
            "max_width": null,
            "order": null,
            "_view_module_version": "1.2.0",
            "grid_template_areas": null,
            "object_position": null,
            "object_fit": null,
            "grid_auto_columns": null,
            "margin": null,
            "display": null,
            "left": null
          }
        },
        "b2d71be6820d4a849f416799d2398db5": {
          "model_module": "@jupyter-widgets/controls",
          "model_name": "DescriptionStyleModel",
          "state": {
            "_view_name": "StyleView",
            "_model_name": "DescriptionStyleModel",
            "description_width": "",
            "_view_module": "@jupyter-widgets/base",
            "_model_module_version": "1.5.0",
            "_view_count": null,
            "_view_module_version": "1.2.0",
            "_model_module": "@jupyter-widgets/controls"
          }
        },
        "cd18695d6d8049f3a909d2fb980fc70e": {
          "model_module": "@jupyter-widgets/base",
          "model_name": "LayoutModel",
          "state": {
            "_view_name": "LayoutView",
            "grid_template_rows": null,
            "right": null,
            "justify_content": null,
            "_view_module": "@jupyter-widgets/base",
            "overflow": null,
            "_model_module_version": "1.2.0",
            "_view_count": null,
            "flex_flow": null,
            "width": null,
            "min_width": null,
            "border": null,
            "align_items": null,
            "bottom": null,
            "_model_module": "@jupyter-widgets/base",
            "top": null,
            "grid_column": null,
            "overflow_y": null,
            "overflow_x": null,
            "grid_auto_flow": null,
            "grid_area": null,
            "grid_template_columns": null,
            "flex": null,
            "_model_name": "LayoutModel",
            "justify_items": null,
            "grid_row": null,
            "max_height": null,
            "align_content": null,
            "visibility": null,
            "align_self": null,
            "height": null,
            "min_height": null,
            "padding": null,
            "grid_auto_rows": null,
            "grid_gap": null,
            "max_width": null,
            "order": null,
            "_view_module_version": "1.2.0",
            "grid_template_areas": null,
            "object_position": null,
            "object_fit": null,
            "grid_auto_columns": null,
            "margin": null,
            "display": null,
            "left": null
          }
        },
        "fd6f2bbb6bed46dc828902ff917a6110": {
          "model_module": "@jupyter-widgets/controls",
          "model_name": "HBoxModel",
          "state": {
            "_view_name": "HBoxView",
            "_dom_classes": [],
            "_model_name": "HBoxModel",
            "_view_module": "@jupyter-widgets/controls",
            "_model_module_version": "1.5.0",
            "_view_count": null,
            "_view_module_version": "1.5.0",
            "box_style": "",
            "layout": "IPY_MODEL_a0a8283fc3a349b69d188784fd6ef5e7",
            "_model_module": "@jupyter-widgets/controls",
            "children": [
              "IPY_MODEL_8315e23ea7de40f6b7d015380564f4a1",
              "IPY_MODEL_9a233aef626d4600b3a72e8ebc04fc43"
            ]
          }
        },
        "a0a8283fc3a349b69d188784fd6ef5e7": {
          "model_module": "@jupyter-widgets/base",
          "model_name": "LayoutModel",
          "state": {
            "_view_name": "LayoutView",
            "grid_template_rows": null,
            "right": null,
            "justify_content": null,
            "_view_module": "@jupyter-widgets/base",
            "overflow": null,
            "_model_module_version": "1.2.0",
            "_view_count": null,
            "flex_flow": null,
            "width": null,
            "min_width": null,
            "border": null,
            "align_items": null,
            "bottom": null,
            "_model_module": "@jupyter-widgets/base",
            "top": null,
            "grid_column": null,
            "overflow_y": null,
            "overflow_x": null,
            "grid_auto_flow": null,
            "grid_area": null,
            "grid_template_columns": null,
            "flex": null,
            "_model_name": "LayoutModel",
            "justify_items": null,
            "grid_row": null,
            "max_height": null,
            "align_content": null,
            "visibility": null,
            "align_self": null,
            "height": null,
            "min_height": null,
            "padding": null,
            "grid_auto_rows": null,
            "grid_gap": null,
            "max_width": null,
            "order": null,
            "_view_module_version": "1.2.0",
            "grid_template_areas": null,
            "object_position": null,
            "object_fit": null,
            "grid_auto_columns": null,
            "margin": null,
            "display": null,
            "left": null
          }
        },
        "8315e23ea7de40f6b7d015380564f4a1": {
          "model_module": "@jupyter-widgets/controls",
          "model_name": "IntProgressModel",
          "state": {
            "_view_name": "ProgressView",
            "style": "IPY_MODEL_fcac3cd2532441a8bf1c638aad30a60f",
            "_dom_classes": [],
            "description": "",
            "_model_name": "IntProgressModel",
            "bar_style": "success",
            "max": 1,
            "_view_module": "@jupyter-widgets/controls",
            "_model_module_version": "1.5.0",
            "value": 1,
            "_view_count": null,
            "_view_module_version": "1.5.0",
            "orientation": "horizontal",
            "min": 0,
            "description_tooltip": null,
            "_model_module": "@jupyter-widgets/controls",
            "layout": "IPY_MODEL_8a376ef3f3954725977294e52a93d71b"
          }
        },
        "9a233aef626d4600b3a72e8ebc04fc43": {
          "model_module": "@jupyter-widgets/controls",
          "model_name": "HTMLModel",
          "state": {
            "_view_name": "HTMLView",
            "style": "IPY_MODEL_3e2ec11b901a4a33a8808535b0601363",
            "_dom_classes": [],
            "description": "",
            "_model_name": "HTMLModel",
            "placeholder": "​",
            "_view_module": "@jupyter-widgets/controls",
            "_model_module_version": "1.5.0",
            "value": "1654784it [00:00, 5265660.53it/s]",
            "_view_count": null,
            "_view_module_version": "1.5.0",
            "description_tooltip": null,
            "_model_module": "@jupyter-widgets/controls",
            "layout": "IPY_MODEL_dc720143bbeb4dcdae638501be8314fe"
          }
        },
        "fcac3cd2532441a8bf1c638aad30a60f": {
          "model_module": "@jupyter-widgets/controls",
          "model_name": "ProgressStyleModel",
          "state": {
            "_view_name": "StyleView",
            "_model_name": "ProgressStyleModel",
            "description_width": "",
            "_view_module": "@jupyter-widgets/base",
            "_model_module_version": "1.5.0",
            "_view_count": null,
            "_view_module_version": "1.2.0",
            "bar_color": null,
            "_model_module": "@jupyter-widgets/controls"
          }
        },
        "8a376ef3f3954725977294e52a93d71b": {
          "model_module": "@jupyter-widgets/base",
          "model_name": "LayoutModel",
          "state": {
            "_view_name": "LayoutView",
            "grid_template_rows": null,
            "right": null,
            "justify_content": null,
            "_view_module": "@jupyter-widgets/base",
            "overflow": null,
            "_model_module_version": "1.2.0",
            "_view_count": null,
            "flex_flow": null,
            "width": null,
            "min_width": null,
            "border": null,
            "align_items": null,
            "bottom": null,
            "_model_module": "@jupyter-widgets/base",
            "top": null,
            "grid_column": null,
            "overflow_y": null,
            "overflow_x": null,
            "grid_auto_flow": null,
            "grid_area": null,
            "grid_template_columns": null,
            "flex": null,
            "_model_name": "LayoutModel",
            "justify_items": null,
            "grid_row": null,
            "max_height": null,
            "align_content": null,
            "visibility": null,
            "align_self": null,
            "height": null,
            "min_height": null,
            "padding": null,
            "grid_auto_rows": null,
            "grid_gap": null,
            "max_width": null,
            "order": null,
            "_view_module_version": "1.2.0",
            "grid_template_areas": null,
            "object_position": null,
            "object_fit": null,
            "grid_auto_columns": null,
            "margin": null,
            "display": null,
            "left": null
          }
        },
        "3e2ec11b901a4a33a8808535b0601363": {
          "model_module": "@jupyter-widgets/controls",
          "model_name": "DescriptionStyleModel",
          "state": {
            "_view_name": "StyleView",
            "_model_name": "DescriptionStyleModel",
            "description_width": "",
            "_view_module": "@jupyter-widgets/base",
            "_model_module_version": "1.5.0",
            "_view_count": null,
            "_view_module_version": "1.2.0",
            "_model_module": "@jupyter-widgets/controls"
          }
        },
        "dc720143bbeb4dcdae638501be8314fe": {
          "model_module": "@jupyter-widgets/base",
          "model_name": "LayoutModel",
          "state": {
            "_view_name": "LayoutView",
            "grid_template_rows": null,
            "right": null,
            "justify_content": null,
            "_view_module": "@jupyter-widgets/base",
            "overflow": null,
            "_model_module_version": "1.2.0",
            "_view_count": null,
            "flex_flow": null,
            "width": null,
            "min_width": null,
            "border": null,
            "align_items": null,
            "bottom": null,
            "_model_module": "@jupyter-widgets/base",
            "top": null,
            "grid_column": null,
            "overflow_y": null,
            "overflow_x": null,
            "grid_auto_flow": null,
            "grid_area": null,
            "grid_template_columns": null,
            "flex": null,
            "_model_name": "LayoutModel",
            "justify_items": null,
            "grid_row": null,
            "max_height": null,
            "align_content": null,
            "visibility": null,
            "align_self": null,
            "height": null,
            "min_height": null,
            "padding": null,
            "grid_auto_rows": null,
            "grid_gap": null,
            "max_width": null,
            "order": null,
            "_view_module_version": "1.2.0",
            "grid_template_areas": null,
            "object_position": null,
            "object_fit": null,
            "grid_auto_columns": null,
            "margin": null,
            "display": null,
            "left": null
          }
        },
        "36f62e24b08c484e88b8a2ac56589bdd": {
          "model_module": "@jupyter-widgets/controls",
          "model_name": "HBoxModel",
          "state": {
            "_view_name": "HBoxView",
            "_dom_classes": [],
            "_model_name": "HBoxModel",
            "_view_module": "@jupyter-widgets/controls",
            "_model_module_version": "1.5.0",
            "_view_count": null,
            "_view_module_version": "1.5.0",
            "box_style": "",
            "layout": "IPY_MODEL_9440cc38150547e1a2691fffda548061",
            "_model_module": "@jupyter-widgets/controls",
            "children": [
              "IPY_MODEL_40f25173f3a34a95828f602817f3447a",
              "IPY_MODEL_3f9b883da9c24a5a88be930b9ea9b854"
            ]
          }
        },
        "9440cc38150547e1a2691fffda548061": {
          "model_module": "@jupyter-widgets/base",
          "model_name": "LayoutModel",
          "state": {
            "_view_name": "LayoutView",
            "grid_template_rows": null,
            "right": null,
            "justify_content": null,
            "_view_module": "@jupyter-widgets/base",
            "overflow": null,
            "_model_module_version": "1.2.0",
            "_view_count": null,
            "flex_flow": null,
            "width": null,
            "min_width": null,
            "border": null,
            "align_items": null,
            "bottom": null,
            "_model_module": "@jupyter-widgets/base",
            "top": null,
            "grid_column": null,
            "overflow_y": null,
            "overflow_x": null,
            "grid_auto_flow": null,
            "grid_area": null,
            "grid_template_columns": null,
            "flex": null,
            "_model_name": "LayoutModel",
            "justify_items": null,
            "grid_row": null,
            "max_height": null,
            "align_content": null,
            "visibility": null,
            "align_self": null,
            "height": null,
            "min_height": null,
            "padding": null,
            "grid_auto_rows": null,
            "grid_gap": null,
            "max_width": null,
            "order": null,
            "_view_module_version": "1.2.0",
            "grid_template_areas": null,
            "object_position": null,
            "object_fit": null,
            "grid_auto_columns": null,
            "margin": null,
            "display": null,
            "left": null
          }
        },
        "40f25173f3a34a95828f602817f3447a": {
          "model_module": "@jupyter-widgets/controls",
          "model_name": "IntProgressModel",
          "state": {
            "_view_name": "ProgressView",
            "style": "IPY_MODEL_82d3d9127a364288b05544954ac16605",
            "_dom_classes": [],
            "description": "",
            "_model_name": "IntProgressModel",
            "bar_style": "success",
            "max": 1,
            "_view_module": "@jupyter-widgets/controls",
            "_model_module_version": "1.5.0",
            "value": 1,
            "_view_count": null,
            "_view_module_version": "1.5.0",
            "orientation": "horizontal",
            "min": 0,
            "description_tooltip": null,
            "_model_module": "@jupyter-widgets/controls",
            "layout": "IPY_MODEL_f7e950a8d27c4cafbc246501064e0b25"
          }
        },
        "3f9b883da9c24a5a88be930b9ea9b854": {
          "model_module": "@jupyter-widgets/controls",
          "model_name": "HTMLModel",
          "state": {
            "_view_name": "HTMLView",
            "style": "IPY_MODEL_a13260cb8e564cd1846a76e9912c0111",
            "_dom_classes": [],
            "description": "",
            "_model_name": "HTMLModel",
            "placeholder": "​",
            "_view_module": "@jupyter-widgets/controls",
            "_model_module_version": "1.5.0",
            "value": "8192it [00:00, 94733.48it/s]",
            "_view_count": null,
            "_view_module_version": "1.5.0",
            "description_tooltip": null,
            "_model_module": "@jupyter-widgets/controls",
            "layout": "IPY_MODEL_890151e7a3784bcabdef84861ee88e27"
          }
        },
        "82d3d9127a364288b05544954ac16605": {
          "model_module": "@jupyter-widgets/controls",
          "model_name": "ProgressStyleModel",
          "state": {
            "_view_name": "StyleView",
            "_model_name": "ProgressStyleModel",
            "description_width": "",
            "_view_module": "@jupyter-widgets/base",
            "_model_module_version": "1.5.0",
            "_view_count": null,
            "_view_module_version": "1.2.0",
            "bar_color": null,
            "_model_module": "@jupyter-widgets/controls"
          }
        },
        "f7e950a8d27c4cafbc246501064e0b25": {
          "model_module": "@jupyter-widgets/base",
          "model_name": "LayoutModel",
          "state": {
            "_view_name": "LayoutView",
            "grid_template_rows": null,
            "right": null,
            "justify_content": null,
            "_view_module": "@jupyter-widgets/base",
            "overflow": null,
            "_model_module_version": "1.2.0",
            "_view_count": null,
            "flex_flow": null,
            "width": null,
            "min_width": null,
            "border": null,
            "align_items": null,
            "bottom": null,
            "_model_module": "@jupyter-widgets/base",
            "top": null,
            "grid_column": null,
            "overflow_y": null,
            "overflow_x": null,
            "grid_auto_flow": null,
            "grid_area": null,
            "grid_template_columns": null,
            "flex": null,
            "_model_name": "LayoutModel",
            "justify_items": null,
            "grid_row": null,
            "max_height": null,
            "align_content": null,
            "visibility": null,
            "align_self": null,
            "height": null,
            "min_height": null,
            "padding": null,
            "grid_auto_rows": null,
            "grid_gap": null,
            "max_width": null,
            "order": null,
            "_view_module_version": "1.2.0",
            "grid_template_areas": null,
            "object_position": null,
            "object_fit": null,
            "grid_auto_columns": null,
            "margin": null,
            "display": null,
            "left": null
          }
        },
        "a13260cb8e564cd1846a76e9912c0111": {
          "model_module": "@jupyter-widgets/controls",
          "model_name": "DescriptionStyleModel",
          "state": {
            "_view_name": "StyleView",
            "_model_name": "DescriptionStyleModel",
            "description_width": "",
            "_view_module": "@jupyter-widgets/base",
            "_model_module_version": "1.5.0",
            "_view_count": null,
            "_view_module_version": "1.2.0",
            "_model_module": "@jupyter-widgets/controls"
          }
        },
        "890151e7a3784bcabdef84861ee88e27": {
          "model_module": "@jupyter-widgets/base",
          "model_name": "LayoutModel",
          "state": {
            "_view_name": "LayoutView",
            "grid_template_rows": null,
            "right": null,
            "justify_content": null,
            "_view_module": "@jupyter-widgets/base",
            "overflow": null,
            "_model_module_version": "1.2.0",
            "_view_count": null,
            "flex_flow": null,
            "width": null,
            "min_width": null,
            "border": null,
            "align_items": null,
            "bottom": null,
            "_model_module": "@jupyter-widgets/base",
            "top": null,
            "grid_column": null,
            "overflow_y": null,
            "overflow_x": null,
            "grid_auto_flow": null,
            "grid_area": null,
            "grid_template_columns": null,
            "flex": null,
            "_model_name": "LayoutModel",
            "justify_items": null,
            "grid_row": null,
            "max_height": null,
            "align_content": null,
            "visibility": null,
            "align_self": null,
            "height": null,
            "min_height": null,
            "padding": null,
            "grid_auto_rows": null,
            "grid_gap": null,
            "max_width": null,
            "order": null,
            "_view_module_version": "1.2.0",
            "grid_template_areas": null,
            "object_position": null,
            "object_fit": null,
            "grid_auto_columns": null,
            "margin": null,
            "display": null,
            "left": null
          }
        }
      }
    }
  },
  "cells": [
    {
      "cell_type": "markdown",
      "metadata": {
        "id": "0Y14bHMQILE2",
        "colab_type": "text"
      },
      "source": [
        "# Introduction to PyTorch"
      ]
    },
    {
      "cell_type": "markdown",
      "metadata": {
        "id": "xIZk8GRoK5YL",
        "colab_type": "text"
      },
      "source": [
        "## Single Layer Neural Network"
      ]
    },
    {
      "cell_type": "code",
      "metadata": {
        "id": "fZq0EtjQKsEw",
        "colab_type": "code",
        "colab": {}
      },
      "source": [
        "import torch\n",
        "\n",
        "def sigmoid(x):\n",
        "  return 1/torch.exp(-x)\n",
        "\n",
        "features=torch.randn(1,5)\n",
        "weights=torch.randn_like(features)\n",
        "bias=torch.randn(1,1)"
      ],
      "execution_count": 0,
      "outputs": []
    },
    {
      "cell_type": "code",
      "metadata": {
        "id": "AAFQ8K2QMJSy",
        "colab_type": "code",
        "outputId": "dc5cf1ef-9ff8-400b-f184-3bb48c7cf4cc",
        "colab": {
          "base_uri": "https://localhost:8080/",
          "height": 36
        }
      },
      "source": [
        "features#x"
      ],
      "execution_count": 0,
      "outputs": [
        {
          "output_type": "execute_result",
          "data": {
            "text/plain": [
              "tensor([[ 0.3935,  1.1392, -2.2584, -0.5304, -0.7867]])"
            ]
          },
          "metadata": {
            "tags": []
          },
          "execution_count": 16
        }
      ]
    },
    {
      "cell_type": "code",
      "metadata": {
        "id": "eL_wAzP7MKKP",
        "colab_type": "code",
        "outputId": "0d7c6a81-eed8-404c-b832-aadf178e8817",
        "colab": {
          "base_uri": "https://localhost:8080/",
          "height": 36
        }
      },
      "source": [
        "weights#w"
      ],
      "execution_count": 0,
      "outputs": [
        {
          "output_type": "execute_result",
          "data": {
            "text/plain": [
              "tensor([[ 1.0052,  0.9432, -0.3100, -0.4460, -1.2623]])"
            ]
          },
          "metadata": {
            "tags": []
          },
          "execution_count": 17
        }
      ]
    },
    {
      "cell_type": "code",
      "metadata": {
        "id": "-C85TzbMMM3S",
        "colab_type": "code",
        "outputId": "e301549a-9865-48fd-9d78-ad5b9b8d0923",
        "colab": {
          "base_uri": "https://localhost:8080/",
          "height": 36
        }
      },
      "source": [
        "bias"
      ],
      "execution_count": 0,
      "outputs": [
        {
          "output_type": "execute_result",
          "data": {
            "text/plain": [
              "tensor([[-0.1119]])"
            ]
          },
          "metadata": {
            "tags": []
          },
          "execution_count": 18
        }
      ]
    },
    {
      "cell_type": "code",
      "metadata": {
        "id": "-yVYzoyJMOSa",
        "colab_type": "code",
        "colab": {}
      },
      "source": [
        "#output = sigmoid(features*weights+bias)  ~ Forward Propagation\n",
        "output=sigmoid(torch.sum(features*weights)+bias)"
      ],
      "execution_count": 0,
      "outputs": []
    },
    {
      "cell_type": "code",
      "metadata": {
        "id": "ZOODtRcWMa4S",
        "colab_type": "code",
        "outputId": "f9236358-e416-48c9-ec8b-ec5194527afe",
        "colab": {
          "base_uri": "https://localhost:8080/",
          "height": 36
        }
      },
      "source": [
        "output"
      ],
      "execution_count": 0,
      "outputs": [
        {
          "output_type": "execute_result",
          "data": {
            "text/plain": [
              "tensor([[26.7834]])"
            ]
          },
          "metadata": {
            "tags": []
          },
          "execution_count": 22
        }
      ]
    },
    {
      "cell_type": "code",
      "metadata": {
        "id": "37AMcfpGMcma",
        "colab_type": "code",
        "colab": {}
      },
      "source": [
        "output=sigmoid(torch.matmul(features,weights.view(5,1))+bias)"
      ],
      "execution_count": 0,
      "outputs": []
    },
    {
      "cell_type": "code",
      "metadata": {
        "id": "WOn1kPtQNf65",
        "colab_type": "code",
        "outputId": "7c6e911c-3142-4e5b-f067-d5d8ee6a3972",
        "colab": {
          "base_uri": "https://localhost:8080/",
          "height": 36
        }
      },
      "source": [
        "output"
      ],
      "execution_count": 0,
      "outputs": [
        {
          "output_type": "execute_result",
          "data": {
            "text/plain": [
              "tensor([[26.7835]])"
            ]
          },
          "metadata": {
            "tags": []
          },
          "execution_count": 27
        }
      ]
    },
    {
      "cell_type": "markdown",
      "metadata": {
        "id": "oddIPC_7OpOi",
        "colab_type": "text"
      },
      "source": [
        "## Stacking Layers"
      ]
    },
    {
      "cell_type": "code",
      "metadata": {
        "id": "JF1qrXPoODuP",
        "colab_type": "code",
        "colab": {}
      },
      "source": [
        "features=torch.randn(1,3) #x1, x2, x3\n",
        "\n",
        "n_input=features.shape[1] #input units - 3\n",
        "\n",
        "n_hidden_units=2 #h1, h2 - The hidden layer\n",
        "\n",
        "n_output_units=1 # output\n",
        "\n",
        "W1=torch.randn(n_input,n_hidden_units) # weights between the input layer and the hidden layer\n",
        "\n",
        "W2=torch.randn(n_hidden_units,n_output_units) # weights between the hidden layer and the output layer\n",
        "\n",
        "B1=torch.randn(1,n_hidden_units) # one bias value for each of the hidden units\n",
        "B2=torch.randn(1,n_output_units) # one bias value for the output unit"
      ],
      "execution_count": 0,
      "outputs": []
    },
    {
      "cell_type": "code",
      "metadata": {
        "id": "ZEjcemXwQ4co",
        "colab_type": "code",
        "colab": {}
      },
      "source": [
        "output_1=sigmoid(torch.matmul(features,W1)+B1)"
      ],
      "execution_count": 0,
      "outputs": []
    },
    {
      "cell_type": "code",
      "metadata": {
        "id": "e2g8yc9LRIZ2",
        "colab_type": "code",
        "outputId": "31b0c1f7-eb1d-42c4-c19c-0fa35e2a40b4",
        "colab": {
          "base_uri": "https://localhost:8080/",
          "height": 36
        }
      },
      "source": [
        "output_1# h1 and h2"
      ],
      "execution_count": 0,
      "outputs": [
        {
          "output_type": "execute_result",
          "data": {
            "text/plain": [
              "tensor([[1.6660, 0.2683]])"
            ]
          },
          "metadata": {
            "tags": []
          },
          "execution_count": 30
        }
      ]
    },
    {
      "cell_type": "code",
      "metadata": {
        "id": "UGVlre4XRJuq",
        "colab_type": "code",
        "colab": {}
      },
      "source": [
        "final_output=sigmoid(torch.matmul(output_1,W2)+B2)"
      ],
      "execution_count": 0,
      "outputs": []
    },
    {
      "cell_type": "code",
      "metadata": {
        "id": "PyXSZ0LoRT85",
        "colab_type": "code",
        "outputId": "cd1d4e6d-850a-433b-e323-e41506bc1f06",
        "colab": {
          "base_uri": "https://localhost:8080/",
          "height": 36
        }
      },
      "source": [
        "final_output # final output for forward propagation through a multi layered neural network"
      ],
      "execution_count": 0,
      "outputs": [
        {
          "output_type": "execute_result",
          "data": {
            "text/plain": [
              "tensor([[0.3666]])"
            ]
          },
          "metadata": {
            "tags": []
          },
          "execution_count": 32
        }
      ]
    },
    {
      "cell_type": "markdown",
      "metadata": {
        "id": "OqWB-IZ1SlVD",
        "colab_type": "text"
      },
      "source": [
        "### Torch - NumPy Conversions"
      ]
    },
    {
      "cell_type": "code",
      "metadata": {
        "id": "v7w-kPLNRdIE",
        "colab_type": "code",
        "outputId": "1ae09e40-0c4d-44da-b1d2-1e8348ac9e28",
        "colab": {
          "base_uri": "https://localhost:8080/",
          "height": 147
        }
      },
      "source": [
        "import numpy as np\n",
        "\n",
        "a=np.random.rand(4,3)\n",
        "b=torch.from_numpy(a)\n",
        "print(a,b)"
      ],
      "execution_count": 0,
      "outputs": [
        {
          "output_type": "stream",
          "text": [
            "[[0.20340403 0.75413014 0.70405631]\n",
            " [0.77605336 0.15142853 0.04102927]\n",
            " [0.01938993 0.04570004 0.13560549]\n",
            " [0.00923336 0.03241983 0.85844509]] tensor([[0.2034, 0.7541, 0.7041],\n",
            "        [0.7761, 0.1514, 0.0410],\n",
            "        [0.0194, 0.0457, 0.1356],\n",
            "        [0.0092, 0.0324, 0.8584]], dtype=torch.float64)\n"
          ],
          "name": "stdout"
        }
      ]
    },
    {
      "cell_type": "code",
      "metadata": {
        "id": "KJK7X2ysS0-J",
        "colab_type": "code",
        "outputId": "de3c139d-830a-4aa0-f44c-d2b8cdb12671",
        "colab": {
          "base_uri": "https://localhost:8080/",
          "height": 91
        }
      },
      "source": [
        "b=b.numpy()\n",
        "print(b) # memory is shared so new tensors aren't made in this case; its inplace"
      ],
      "execution_count": 0,
      "outputs": [
        {
          "output_type": "stream",
          "text": [
            "[[0.20340403 0.75413014 0.70405631]\n",
            " [0.77605336 0.15142853 0.04102927]\n",
            " [0.01938993 0.04570004 0.13560549]\n",
            " [0.00923336 0.03241983 0.85844509]]\n"
          ],
          "name": "stdout"
        }
      ]
    },
    {
      "cell_type": "markdown",
      "metadata": {
        "id": "hqQ2TQqtTLye",
        "colab_type": "text"
      },
      "source": [
        "## Neural Networks in PyTorch"
      ]
    },
    {
      "cell_type": "code",
      "metadata": {
        "id": "4ZZxXYapS8Gn",
        "colab_type": "code",
        "colab": {}
      },
      "source": [
        "import matplotlib.pyplot as plt\n",
        "%matplotlib inline"
      ],
      "execution_count": 0,
      "outputs": []
    },
    {
      "cell_type": "code",
      "metadata": {
        "id": "WDxX_T5-Tfof",
        "colab_type": "code",
        "colab": {}
      },
      "source": [
        "from torchvision import datasets,transforms\n",
        "\n",
        "transform=transforms.Compose([\n",
        "                              transforms.ToTensor(),# transformation to convert PIL or numpy array to a torch tensor\n",
        "                              transforms.Normalize((0.5,),(0.5,))#normalizes each of the three layers to a mean of 0.5 and a standard deviation of 0.5\n",
        "])"
      ],
      "execution_count": 0,
      "outputs": []
    },
    {
      "cell_type": "code",
      "metadata": {
        "id": "m9oBY_PsT9-n",
        "colab_type": "code",
        "colab": {}
      },
      "source": [
        "trainset=datasets.MNIST('MNISTER_data/',download=True,train=True,transform=transform)\n",
        "trainloader=torch.utils.data.DataLoader(trainset,batch_size=64,shuffle=True) # combines a dataset with a sampler and provides an iterable"
      ],
      "execution_count": 0,
      "outputs": []
    },
    {
      "cell_type": "code",
      "metadata": {
        "id": "PT6vR2o0VZhk",
        "colab_type": "code",
        "colab": {}
      },
      "source": [
        "dataiter=iter(trainloader) # turning the iterable into an iterator"
      ],
      "execution_count": 0,
      "outputs": []
    },
    {
      "cell_type": "code",
      "metadata": {
        "id": "pSwRUl9GV-_K",
        "colab_type": "code",
        "colab": {}
      },
      "source": [
        "images,labels=dataiter.next()"
      ],
      "execution_count": 0,
      "outputs": []
    },
    {
      "cell_type": "code",
      "metadata": {
        "id": "QrhXDbSzWmJS",
        "colab_type": "code",
        "outputId": "9448d192-8aff-4c74-9416-1aa66a01f1d6",
        "colab": {
          "base_uri": "https://localhost:8080/",
          "height": 36
        }
      },
      "source": [
        "print(type(images),images.shape)"
      ],
      "execution_count": 0,
      "outputs": [
        {
          "output_type": "stream",
          "text": [
            "<class 'torch.Tensor'> torch.Size([64, 1, 28, 28])\n"
          ],
          "name": "stdout"
        }
      ]
    },
    {
      "cell_type": "code",
      "metadata": {
        "id": "MQ5xj9YGXtvh",
        "colab_type": "code",
        "outputId": "cca9c159-0ffa-4495-dc42-8413bfb44b19",
        "colab": {
          "base_uri": "https://localhost:8080/",
          "height": 36
        }
      },
      "source": [
        "print(type(labels),labels.shape)"
      ],
      "execution_count": 0,
      "outputs": [
        {
          "output_type": "stream",
          "text": [
            "<class 'torch.Tensor'> torch.Size([64])\n"
          ],
          "name": "stdout"
        }
      ]
    },
    {
      "cell_type": "code",
      "metadata": {
        "id": "OsdQYaCAZMlM",
        "colab_type": "code",
        "outputId": "79b67543-a1f4-4ac4-dae8-7d900278138a",
        "colab": {
          "base_uri": "https://localhost:8080/",
          "height": 284
        }
      },
      "source": [
        "plt.imshow(images[0,0].numpy())"
      ],
      "execution_count": 0,
      "outputs": [
        {
          "output_type": "execute_result",
          "data": {
            "text/plain": [
              "<matplotlib.image.AxesImage at 0x7fdf3647dc18>"
            ]
          },
          "metadata": {
            "tags": []
          },
          "execution_count": 71
        },
        {
          "output_type": "display_data",
          "data": {
            "image/png": "[encoded data removed]",
            "text/plain": [
              "<Figure size 432x288 with 1 Axes>"
            ]
          },
          "metadata": {
            "tags": []
          }
        }
      ]
    },
    {
      "cell_type": "code",
      "metadata": {
        "id": "W01mWwl6ZWrT",
        "colab_type": "code",
        "outputId": "20f53e74-eed8-4a97-bddb-6eef71d3f0ca",
        "colab": {
          "base_uri": "https://localhost:8080/",
          "height": 36
        }
      },
      "source": [
        "def sigmoid(x):\n",
        "  return 1/(1+torch.exp(-x))\n",
        "\n",
        "images=images.view(64,28*28)\n",
        "n_hidden_units=256\n",
        "n_output_units=10\n",
        "\n",
        "weights_1=torch.randn(images.shape[1],n_hidden_units)\n",
        "bias_1=torch.randn(1,n_hidden_units)\n",
        "\n",
        "output_1=sigmoid(torch.matmul(images,weights_1)+bias_1)\n",
        "\n",
        "weights_2=torch.randn(n_hidden_units,n_output_units)\n",
        "bias_2=torch.randn(1,n_output_units)\n",
        "\n",
        "final_output=torch.matmul(output_1,weights_2)+bias_2 # no activation has to be applied to the output layer\n",
        "\n",
        "final_output.shape"
      ],
      "execution_count": 0,
      "outputs": [
        {
          "output_type": "execute_result",
          "data": {
            "text/plain": [
              "torch.Size([64, 10])"
            ]
          },
          "metadata": {
            "tags": []
          },
          "execution_count": 82
        }
      ]
    },
    {
      "cell_type": "code",
      "metadata": {
        "id": "6Nt1eT-Kc31M",
        "colab_type": "code",
        "outputId": "91810da2-83a1-460f-b306-a8122c288f35",
        "colab": {
          "base_uri": "https://localhost:8080/",
          "height": 54
        }
      },
      "source": [
        "final_output[0] # forward propagation result - probability distribution"
      ],
      "execution_count": 0,
      "outputs": [
        {
          "output_type": "execute_result",
          "data": {
            "text/plain": [
              "tensor([ -9.8213,  -4.4148,  -6.9402, -10.7038,  -1.6705,   6.2378,  -9.6509,\n",
              "         -0.1965,  -1.5017,   5.5847])"
            ]
          },
          "metadata": {
            "tags": []
          },
          "execution_count": 83
        }
      ]
    },
    {
      "cell_type": "markdown",
      "metadata": {
        "id": "DZR9DCtueOzF",
        "colab_type": "text"
      },
      "source": [
        "Our output is just a bunch of numbers that are supposed to actually be indicating a probability distribution.\n",
        "\n",
        "To do this we use the softmax function which basically squishes each value in the output between 0 and 1 and normalizes everything to give us a proper probability distribution."
      ]
    },
    {
      "cell_type": "code",
      "metadata": {
        "id": "42dylM2Vdlqc",
        "colab_type": "code",
        "outputId": "3ca95e62-84a3-4357-91ce-e6c57b255137",
        "colab": {
          "base_uri": "https://localhost:8080/",
          "height": 36
        }
      },
      "source": [
        "def sigmoid(x):\n",
        "  return 1/(1+torch.exp(-x))\n",
        "\n",
        "def softmax(x):\n",
        "  return torch.exp(x)/torch.sum(torch.exp(x),dim=1).view(-1,1) # dim = 1 means summing by rows\n",
        "\n",
        "images=images.view(64,28*28)\n",
        "n_hidden_units=256\n",
        "n_output_units=10\n",
        "\n",
        "weights_1=torch.randn(images.shape[1],n_hidden_units)\n",
        "bias_1=torch.randn(1,n_hidden_units)\n",
        "\n",
        "output_1=sigmoid(torch.matmul(images,weights_1)+bias_1)\n",
        "\n",
        "weights_2=torch.randn(n_hidden_units,n_output_units)\n",
        "bias_2=torch.randn(1,n_output_units)\n",
        "\n",
        "final_output=softmax(torch.matmul(output_1,weights_2)+bias_2) # no activation has to be applied to the output layer\n",
        "\n",
        "final_output.shape"
      ],
      "execution_count": 0,
      "outputs": [
        {
          "output_type": "execute_result",
          "data": {
            "text/plain": [
              "torch.Size([64, 10])"
            ]
          },
          "metadata": {
            "tags": []
          },
          "execution_count": 85
        }
      ]
    },
    {
      "cell_type": "code",
      "metadata": {
        "id": "UGsf-FFuf-wT",
        "colab_type": "code",
        "outputId": "588efec0-51d8-4d8c-d554-a3c2b8f64bef",
        "colab": {
          "base_uri": "https://localhost:8080/",
          "height": 36
        }
      },
      "source": [
        "torch.sum(final_output[0]) # the sum of the probability distribution will always be one after a softmax has been applied to it"
      ],
      "execution_count": 0,
      "outputs": [
        {
          "output_type": "execute_result",
          "data": {
            "text/plain": [
              "tensor(1.)"
            ]
          },
          "metadata": {
            "tags": []
          },
          "execution_count": 87
        }
      ]
    },
    {
      "cell_type": "markdown",
      "metadata": {
        "id": "FuR_2B1ggfBt",
        "colab_type": "text"
      },
      "source": [
        "## torch.nn Module for Building Neural Networks"
      ]
    },
    {
      "cell_type": "code",
      "metadata": {
        "id": "1KMQxuqNgTKd",
        "colab_type": "code",
        "colab": {}
      },
      "source": [
        "from torch import nn\n",
        "'''\n",
        "class Network(nn.module): # inherit the nn.Module class\n",
        "  super().__init__() # run a constructor for the nn.Module parent class\n",
        "  self.hidden=nn.Linear(784,256) # input to hidden layer linear transformation W1*X+B\n",
        "  self.output=nn.Linear(256,10) # hidden layer to output layer linear transformation \n",
        "\n",
        "  self.sigmoid=nn.Sigmoid()\n",
        "  self.softmax=nn.Softmax(dim=1) # dim has the same relevance here as it did in the softmax function we defined earlier\n",
        "\n",
        "  def forward(self,x): #forward propagation\n",
        "    x=self.hidden(x)\n",
        "    x=self.sigmoid(x)\n",
        "    x=self.output(x)\n",
        "    x=self.softmax(x)\n",
        "    \n",
        "    return x\n",
        "'''#another way of writing this is:-\n",
        "\n",
        "import torch.nn.functional as f\n",
        "\n",
        "class Network(nn.Module):\n",
        "  def __init__(self):\n",
        "    self.hidden=nn.Linear(784,256)\n",
        "    self.output=nn.Linear(256,10)\n",
        "\n",
        "  def forward(x):\n",
        "    x=f.sigmoid(self.hidden(x))\n",
        "    x=f.softmax(self.output(x),dim=1)\n",
        "    return x"
      ],
      "execution_count": 0,
      "outputs": []
    },
    {
      "cell_type": "code",
      "metadata": {
        "id": "Hg06FyQop96z",
        "colab_type": "code",
        "colab": {}
      },
      "source": [
        "# create a neural network with an input layer of size 784, hidden layer 1 of size 128, hidden layer 2\n",
        "# of size 64, an output layer of size 10\n",
        "# use a relu activation function on both the hidden layers, a softmax function on the output layer\n",
        "class Network(nn.Module):\n",
        "  def __init__(self):\n",
        "    self.hidden1=nn.Linear(784,256)\n",
        "    self.hidden2=nn.Linear(256,64)\n",
        "    self.output=nn.Linear(64,10)\n",
        "  def forward(x):\n",
        "    x=f.relu(self.hidden1(x))\n",
        "    x=f.relu(self.hidden2(x))\n",
        "    x=f.softmax(self.output(x))\n",
        "    return x\n",
        "\n",
        "  "
      ],
      "execution_count": 0,
      "outputs": []
    },
    {
      "cell_type": "code",
      "metadata": {
        "id": "imKatp8MtJf5",
        "colab_type": "code",
        "colab": {}
      },
      "source": [
        "#another way to do this is \n",
        "model=nn.Sequential(\n",
        "    nn.Linear(784,256),\n",
        "    nn.ReLU(),\n",
        "    nn.Linear(256,64),\n",
        "    nn.ReLU(),\n",
        "    nn.Linear(64,10),\n",
        "    nn.Softmax(dim=1)\n",
        ")\n",
        "images,labels=dataiter.next()\n",
        "predictions=model.forward(images.view(64,28*28))"
      ],
      "execution_count": 0,
      "outputs": []
    },
    {
      "cell_type": "code",
      "metadata": {
        "id": "OM3V-kNgtyuT",
        "colab_type": "code",
        "outputId": "ddc084a5-11ea-44f1-9b10-44af3d0612de",
        "colab": {
          "base_uri": "https://localhost:8080/",
          "height": 36
        }
      },
      "source": [
        "predictions.shape"
      ],
      "execution_count": 0,
      "outputs": [
        {
          "output_type": "execute_result",
          "data": {
            "text/plain": [
              "torch.Size([64, 10])"
            ]
          },
          "metadata": {
            "tags": []
          },
          "execution_count": 96
        }
      ]
    },
    {
      "cell_type": "code",
      "metadata": {
        "id": "He-sE9Rvt0hL",
        "colab_type": "code",
        "outputId": "6c75ef70-94c4-4634-9722-e40bacaa350d",
        "colab": {
          "base_uri": "https://localhost:8080/",
          "height": 184
        }
      },
      "source": [
        "#weights for the first linear operation\n",
        "model[0].weight"
      ],
      "execution_count": 0,
      "outputs": [
        {
          "output_type": "execute_result",
          "data": {
            "text/plain": [
              "Parameter containing:\n",
              "tensor([[-0.0254, -0.0351, -0.0334,  ..., -0.0168, -0.0349, -0.0252],\n",
              "        [ 0.0227, -0.0155,  0.0102,  ..., -0.0112, -0.0118,  0.0269],\n",
              "        [ 0.0230, -0.0063, -0.0101,  ...,  0.0357, -0.0072,  0.0186],\n",
              "        ...,\n",
              "        [ 0.0201,  0.0203,  0.0314,  ..., -0.0153,  0.0271, -0.0169],\n",
              "        [ 0.0234,  0.0102,  0.0055,  ..., -0.0260, -0.0169, -0.0250],\n",
              "        [-0.0111, -0.0227,  0.0157,  ...,  0.0160, -0.0041,  0.0200]],\n",
              "       requires_grad=True)"
            ]
          },
          "metadata": {
            "tags": []
          },
          "execution_count": 97
        }
      ]
    },
    {
      "cell_type": "code",
      "metadata": {
        "id": "o3-0eceJuNab",
        "colab_type": "code",
        "colab": {}
      },
      "source": [
        "# another way of doing it is\n",
        "from collections import OrderedDict\n",
        "model = nn.Sequential(OrderedDict([\n",
        "                      ('fc1', nn.Linear(input_size, hidden_sizes[0])),\n",
        "                      ('relu1', nn.ReLU()),\n",
        "                      ('fc2', nn.Linear(hidden_sizes[0], hidden_sizes[1])),\n",
        "                      ('relu2', nn.ReLU()),\n",
        "                      ('output', nn.Linear(hidden_sizes[1], output_size)),\n",
        "                      ('softmax', nn.Softmax(dim=1))]))\n",
        "model # here we're specifying out own names for the layers"
      ],
      "execution_count": 0,
      "outputs": []
    },
    {
      "cell_type": "code",
      "metadata": {
        "id": "g6WS-6_nvp2U",
        "colab_type": "code",
        "colab": {}
      },
      "source": [
        "model=nn.Sequential(\n",
        "    nn.Linear(784,128),\n",
        "    nn.ReLU(),\n",
        "    nn.Linear(128,64),\n",
        "    nn.ReLU(),\n",
        "    nn.Linear(64,10)\n",
        ")\n",
        "criterion=nn.CrossEntropyLoss()#loss function\n",
        "images,labels=dataiter.next()\n",
        "images=images.view(64,28*28)\n",
        "\n",
        "logits=model(images)\n",
        "\n",
        "loss=criterion(logits,labels)"
      ],
      "execution_count": 0,
      "outputs": []
    },
    {
      "cell_type": "code",
      "metadata": {
        "id": "8t5C-xQwwUA5",
        "colab_type": "code",
        "colab": {}
      },
      "source": [
        "model=nn.Sequential(\n",
        "    nn.Linear(784,128),\n",
        "    nn.ReLU(),\n",
        "    nn.Linear(128,64),\n",
        "    nn.ReLU(),\n",
        "    nn.Linear(64,10),\n",
        "    nn.LogSoftmax(dim=1)\n",
        ")\n",
        "criterion=nn.NLLLoss()\n",
        "\n",
        "images,labels=dataiter.next()\n",
        "images=images.view(64,784)\n",
        "\n",
        "logits=model(images)\n",
        "\n",
        "loss=criterion(logits,labels)"
      ],
      "execution_count": 0,
      "outputs": []
    },
    {
      "cell_type": "code",
      "metadata": {
        "id": "KUd2p9PRxNZ0",
        "colab_type": "code",
        "colab": {}
      },
      "source": [
        "loss.backward() # backpropagation updates the gradients on each of the layers"
      ],
      "execution_count": 0,
      "outputs": []
    },
    {
      "cell_type": "code",
      "metadata": {
        "id": "23Ds1-59yM6j",
        "colab_type": "code",
        "outputId": "f07e51b4-11be-4f20-da56-ab9c79b2802b",
        "colab": {
          "base_uri": "https://localhost:8080/",
          "height": 414
        }
      },
      "source": [
        "from torch import optim\n",
        "\n",
        "epochs=100\n",
        "model=nn.Sequential(\n",
        "    nn.Linear(28*28,128),\n",
        "    nn.ReLU(),\n",
        "    nn.Linear(128,64),\n",
        "    nn.ReLU(),\n",
        "    nn.Linear(64,10),\n",
        "    nn.LogSoftmax(dim=1)\n",
        ")\n",
        "criterion=nn.NLLLoss()\n",
        "optimizer=optim.SGD(model.parameters(),lr=0.01) # actually takes the step to update the weights\n",
        "\n",
        "for epoch in range(epochs):\n",
        "  running_loss=0\n",
        "  for images,labels in trainloader:\n",
        "    images=images.view(images.shape[0],-1)\n",
        "    optimizer.zero_grad() # clear the gradients because once the weights have been updated, we dont need the previous gradients again\n",
        "\n",
        "    output=model.forward(images)\n",
        "    loss=criterion(output,labels)\n",
        "    loss.backward()\n",
        "    optimizer.step() # update weights\n",
        "\n",
        "    running_loss+=loss.item()# loss.item() tells us the loss\n",
        "  else:\n",
        "    print(f'Loss for this epoch is {running_loss/len(trainloader)}')\n"
      ],
      "execution_count": 40,
      "outputs": [
        {
          "output_type": "stream",
          "text": [
            "Loss for this epoch is 0.9896341855846235\n"
          ],
          "name": "stdout"
        },
        {
          "output_type": "error",
          "ename": "KeyboardInterrupt",
          "evalue": "ignored",
          "traceback": [
            "\u001b[0;31m---------------------------------------------------------------------------\u001b[0m",
            "\u001b[0;31mKeyboardInterrupt\u001b[0m                         Traceback (most recent call last)",
            "\u001b[0;32m<ipython-input-40-e95eb069b406>\u001b[0m in \u001b[0;36m<module>\u001b[0;34m()\u001b[0m\n\u001b[1;32m     15\u001b[0m \u001b[0;32mfor\u001b[0m \u001b[0mepoch\u001b[0m \u001b[0;32min\u001b[0m \u001b[0mrange\u001b[0m\u001b[0;34m(\u001b[0m\u001b[0mepochs\u001b[0m\u001b[0;34m)\u001b[0m\u001b[0;34m:\u001b[0m\u001b[0;34m\u001b[0m\u001b[0;34m\u001b[0m\u001b[0m\n\u001b[1;32m     16\u001b[0m   \u001b[0mrunning_loss\u001b[0m\u001b[0;34m=\u001b[0m\u001b[0;36m0\u001b[0m\u001b[0;34m\u001b[0m\u001b[0;34m\u001b[0m\u001b[0m\n\u001b[0;32m---> 17\u001b[0;31m   \u001b[0;32mfor\u001b[0m \u001b[0mimages\u001b[0m\u001b[0;34m,\u001b[0m\u001b[0mlabels\u001b[0m \u001b[0;32min\u001b[0m \u001b[0mtrainloader\u001b[0m\u001b[0;34m:\u001b[0m\u001b[0;34m\u001b[0m\u001b[0;34m\u001b[0m\u001b[0m\n\u001b[0m\u001b[1;32m     18\u001b[0m     \u001b[0mimages\u001b[0m\u001b[0;34m=\u001b[0m\u001b[0mimages\u001b[0m\u001b[0;34m.\u001b[0m\u001b[0mview\u001b[0m\u001b[0;34m(\u001b[0m\u001b[0mimages\u001b[0m\u001b[0;34m.\u001b[0m\u001b[0mshape\u001b[0m\u001b[0;34m[\u001b[0m\u001b[0;36m0\u001b[0m\u001b[0;34m]\u001b[0m\u001b[0;34m,\u001b[0m\u001b[0;34m-\u001b[0m\u001b[0;36m1\u001b[0m\u001b[0;34m)\u001b[0m\u001b[0;34m\u001b[0m\u001b[0;34m\u001b[0m\u001b[0m\n\u001b[1;32m     19\u001b[0m     \u001b[0moptimizer\u001b[0m\u001b[0;34m.\u001b[0m\u001b[0mzero_grad\u001b[0m\u001b[0;34m(\u001b[0m\u001b[0;34m)\u001b[0m \u001b[0;31m# clear the gradients because once the weights have been updated, we dont need the previous gradients again\u001b[0m\u001b[0;34m\u001b[0m\u001b[0;34m\u001b[0m\u001b[0m\n",
            "\u001b[0;32m/usr/local/lib/python3.6/dist-packages/torch/utils/data/dataloader.py\u001b[0m in \u001b[0;36m__next__\u001b[0;34m(self)\u001b[0m\n\u001b[1;32m    343\u001b[0m \u001b[0;34m\u001b[0m\u001b[0m\n\u001b[1;32m    344\u001b[0m     \u001b[0;32mdef\u001b[0m \u001b[0m__next__\u001b[0m\u001b[0;34m(\u001b[0m\u001b[0mself\u001b[0m\u001b[0;34m)\u001b[0m\u001b[0;34m:\u001b[0m\u001b[0;34m\u001b[0m\u001b[0;34m\u001b[0m\u001b[0m\n\u001b[0;32m--> 345\u001b[0;31m         \u001b[0mdata\u001b[0m \u001b[0;34m=\u001b[0m \u001b[0mself\u001b[0m\u001b[0;34m.\u001b[0m\u001b[0m_next_data\u001b[0m\u001b[0;34m(\u001b[0m\u001b[0;34m)\u001b[0m\u001b[0;34m\u001b[0m\u001b[0;34m\u001b[0m\u001b[0m\n\u001b[0m\u001b[1;32m    346\u001b[0m         \u001b[0mself\u001b[0m\u001b[0;34m.\u001b[0m\u001b[0m_num_yielded\u001b[0m \u001b[0;34m+=\u001b[0m \u001b[0;36m1\u001b[0m\u001b[0;34m\u001b[0m\u001b[0;34m\u001b[0m\u001b[0m\n\u001b[1;32m    347\u001b[0m         \u001b[0;32mif\u001b[0m \u001b[0mself\u001b[0m\u001b[0;34m.\u001b[0m\u001b[0m_dataset_kind\u001b[0m \u001b[0;34m==\u001b[0m \u001b[0m_DatasetKind\u001b[0m\u001b[0;34m.\u001b[0m\u001b[0mIterable\u001b[0m \u001b[0;32mand\u001b[0m\u001b[0;31m \u001b[0m\u001b[0;31m\\\u001b[0m\u001b[0;34m\u001b[0m\u001b[0;34m\u001b[0m\u001b[0m\n",
            "\u001b[0;32m/usr/local/lib/python3.6/dist-packages/torch/utils/data/dataloader.py\u001b[0m in \u001b[0;36m_next_data\u001b[0;34m(self)\u001b[0m\n\u001b[1;32m    383\u001b[0m     \u001b[0;32mdef\u001b[0m \u001b[0m_next_data\u001b[0m\u001b[0;34m(\u001b[0m\u001b[0mself\u001b[0m\u001b[0;34m)\u001b[0m\u001b[0;34m:\u001b[0m\u001b[0;34m\u001b[0m\u001b[0;34m\u001b[0m\u001b[0m\n\u001b[1;32m    384\u001b[0m         \u001b[0mindex\u001b[0m \u001b[0;34m=\u001b[0m \u001b[0mself\u001b[0m\u001b[0;34m.\u001b[0m\u001b[0m_next_index\u001b[0m\u001b[0;34m(\u001b[0m\u001b[0;34m)\u001b[0m  \u001b[0;31m# may raise StopIteration\u001b[0m\u001b[0;34m\u001b[0m\u001b[0;34m\u001b[0m\u001b[0m\n\u001b[0;32m--> 385\u001b[0;31m         \u001b[0mdata\u001b[0m \u001b[0;34m=\u001b[0m \u001b[0mself\u001b[0m\u001b[0;34m.\u001b[0m\u001b[0m_dataset_fetcher\u001b[0m\u001b[0;34m.\u001b[0m\u001b[0mfetch\u001b[0m\u001b[0;34m(\u001b[0m\u001b[0mindex\u001b[0m\u001b[0;34m)\u001b[0m  \u001b[0;31m# may raise StopIteration\u001b[0m\u001b[0;34m\u001b[0m\u001b[0;34m\u001b[0m\u001b[0m\n\u001b[0m\u001b[1;32m    386\u001b[0m         \u001b[0;32mif\u001b[0m \u001b[0mself\u001b[0m\u001b[0;34m.\u001b[0m\u001b[0m_pin_memory\u001b[0m\u001b[0;34m:\u001b[0m\u001b[0;34m\u001b[0m\u001b[0;34m\u001b[0m\u001b[0m\n\u001b[1;32m    387\u001b[0m             \u001b[0mdata\u001b[0m \u001b[0;34m=\u001b[0m \u001b[0m_utils\u001b[0m\u001b[0;34m.\u001b[0m\u001b[0mpin_memory\u001b[0m\u001b[0;34m.\u001b[0m\u001b[0mpin_memory\u001b[0m\u001b[0;34m(\u001b[0m\u001b[0mdata\u001b[0m\u001b[0;34m)\u001b[0m\u001b[0;34m\u001b[0m\u001b[0;34m\u001b[0m\u001b[0m\n",
            "\u001b[0;32m/usr/local/lib/python3.6/dist-packages/torch/utils/data/_utils/fetch.py\u001b[0m in \u001b[0;36mfetch\u001b[0;34m(self, possibly_batched_index)\u001b[0m\n\u001b[1;32m     42\u001b[0m     \u001b[0;32mdef\u001b[0m \u001b[0mfetch\u001b[0m\u001b[0;34m(\u001b[0m\u001b[0mself\u001b[0m\u001b[0;34m,\u001b[0m \u001b[0mpossibly_batched_index\u001b[0m\u001b[0;34m)\u001b[0m\u001b[0;34m:\u001b[0m\u001b[0;34m\u001b[0m\u001b[0;34m\u001b[0m\u001b[0m\n\u001b[1;32m     43\u001b[0m         \u001b[0;32mif\u001b[0m \u001b[0mself\u001b[0m\u001b[0;34m.\u001b[0m\u001b[0mauto_collation\u001b[0m\u001b[0;34m:\u001b[0m\u001b[0;34m\u001b[0m\u001b[0;34m\u001b[0m\u001b[0m\n\u001b[0;32m---> 44\u001b[0;31m             \u001b[0mdata\u001b[0m \u001b[0;34m=\u001b[0m \u001b[0;34m[\u001b[0m\u001b[0mself\u001b[0m\u001b[0;34m.\u001b[0m\u001b[0mdataset\u001b[0m\u001b[0;34m[\u001b[0m\u001b[0midx\u001b[0m\u001b[0;34m]\u001b[0m \u001b[0;32mfor\u001b[0m \u001b[0midx\u001b[0m \u001b[0;32min\u001b[0m \u001b[0mpossibly_batched_index\u001b[0m\u001b[0;34m]\u001b[0m\u001b[0;34m\u001b[0m\u001b[0;34m\u001b[0m\u001b[0m\n\u001b[0m\u001b[1;32m     45\u001b[0m         \u001b[0;32melse\u001b[0m\u001b[0;34m:\u001b[0m\u001b[0;34m\u001b[0m\u001b[0;34m\u001b[0m\u001b[0m\n\u001b[1;32m     46\u001b[0m             \u001b[0mdata\u001b[0m \u001b[0;34m=\u001b[0m \u001b[0mself\u001b[0m\u001b[0;34m.\u001b[0m\u001b[0mdataset\u001b[0m\u001b[0;34m[\u001b[0m\u001b[0mpossibly_batched_index\u001b[0m\u001b[0;34m]\u001b[0m\u001b[0;34m\u001b[0m\u001b[0;34m\u001b[0m\u001b[0m\n",
            "\u001b[0;32m/usr/local/lib/python3.6/dist-packages/torch/utils/data/_utils/fetch.py\u001b[0m in \u001b[0;36m<listcomp>\u001b[0;34m(.0)\u001b[0m\n\u001b[1;32m     42\u001b[0m     \u001b[0;32mdef\u001b[0m \u001b[0mfetch\u001b[0m\u001b[0;34m(\u001b[0m\u001b[0mself\u001b[0m\u001b[0;34m,\u001b[0m \u001b[0mpossibly_batched_index\u001b[0m\u001b[0;34m)\u001b[0m\u001b[0;34m:\u001b[0m\u001b[0;34m\u001b[0m\u001b[0;34m\u001b[0m\u001b[0m\n\u001b[1;32m     43\u001b[0m         \u001b[0;32mif\u001b[0m \u001b[0mself\u001b[0m\u001b[0;34m.\u001b[0m\u001b[0mauto_collation\u001b[0m\u001b[0;34m:\u001b[0m\u001b[0;34m\u001b[0m\u001b[0;34m\u001b[0m\u001b[0m\n\u001b[0;32m---> 44\u001b[0;31m             \u001b[0mdata\u001b[0m \u001b[0;34m=\u001b[0m \u001b[0;34m[\u001b[0m\u001b[0mself\u001b[0m\u001b[0;34m.\u001b[0m\u001b[0mdataset\u001b[0m\u001b[0;34m[\u001b[0m\u001b[0midx\u001b[0m\u001b[0;34m]\u001b[0m \u001b[0;32mfor\u001b[0m \u001b[0midx\u001b[0m \u001b[0;32min\u001b[0m \u001b[0mpossibly_batched_index\u001b[0m\u001b[0;34m]\u001b[0m\u001b[0;34m\u001b[0m\u001b[0;34m\u001b[0m\u001b[0m\n\u001b[0m\u001b[1;32m     45\u001b[0m         \u001b[0;32melse\u001b[0m\u001b[0;34m:\u001b[0m\u001b[0;34m\u001b[0m\u001b[0;34m\u001b[0m\u001b[0m\n\u001b[1;32m     46\u001b[0m             \u001b[0mdata\u001b[0m \u001b[0;34m=\u001b[0m \u001b[0mself\u001b[0m\u001b[0;34m.\u001b[0m\u001b[0mdataset\u001b[0m\u001b[0;34m[\u001b[0m\u001b[0mpossibly_batched_index\u001b[0m\u001b[0;34m]\u001b[0m\u001b[0;34m\u001b[0m\u001b[0;34m\u001b[0m\u001b[0m\n",
            "\u001b[0;32m/usr/local/lib/python3.6/dist-packages/torchvision/datasets/mnist.py\u001b[0m in \u001b[0;36m__getitem__\u001b[0;34m(self, index)\u001b[0m\n\u001b[1;32m     92\u001b[0m         \u001b[0;31m# doing this so that it is consistent with all other datasets\u001b[0m\u001b[0;34m\u001b[0m\u001b[0;34m\u001b[0m\u001b[0;34m\u001b[0m\u001b[0m\n\u001b[1;32m     93\u001b[0m         \u001b[0;31m# to return a PIL Image\u001b[0m\u001b[0;34m\u001b[0m\u001b[0;34m\u001b[0m\u001b[0;34m\u001b[0m\u001b[0m\n\u001b[0;32m---> 94\u001b[0;31m         \u001b[0mimg\u001b[0m \u001b[0;34m=\u001b[0m \u001b[0mImage\u001b[0m\u001b[0;34m.\u001b[0m\u001b[0mfromarray\u001b[0m\u001b[0;34m(\u001b[0m\u001b[0mimg\u001b[0m\u001b[0;34m.\u001b[0m\u001b[0mnumpy\u001b[0m\u001b[0;34m(\u001b[0m\u001b[0;34m)\u001b[0m\u001b[0;34m,\u001b[0m \u001b[0mmode\u001b[0m\u001b[0;34m=\u001b[0m\u001b[0;34m'L'\u001b[0m\u001b[0;34m)\u001b[0m\u001b[0;34m\u001b[0m\u001b[0;34m\u001b[0m\u001b[0m\n\u001b[0m\u001b[1;32m     95\u001b[0m \u001b[0;34m\u001b[0m\u001b[0m\n\u001b[1;32m     96\u001b[0m         \u001b[0;32mif\u001b[0m \u001b[0mself\u001b[0m\u001b[0;34m.\u001b[0m\u001b[0mtransform\u001b[0m \u001b[0;32mis\u001b[0m \u001b[0;32mnot\u001b[0m \u001b[0;32mNone\u001b[0m\u001b[0;34m:\u001b[0m\u001b[0;34m\u001b[0m\u001b[0;34m\u001b[0m\u001b[0m\n",
            "\u001b[0;32m/usr/local/lib/python3.6/dist-packages/PIL/Image.py\u001b[0m in \u001b[0;36mfromarray\u001b[0;34m(obj, mode)\u001b[0m\n\u001b[1;32m   2664\u001b[0m             \u001b[0mobj\u001b[0m \u001b[0;34m=\u001b[0m \u001b[0mobj\u001b[0m\u001b[0;34m.\u001b[0m\u001b[0mtostring\u001b[0m\u001b[0;34m(\u001b[0m\u001b[0;34m)\u001b[0m\u001b[0;34m\u001b[0m\u001b[0;34m\u001b[0m\u001b[0m\n\u001b[1;32m   2665\u001b[0m \u001b[0;34m\u001b[0m\u001b[0m\n\u001b[0;32m-> 2666\u001b[0;31m     \u001b[0;32mreturn\u001b[0m \u001b[0mfrombuffer\u001b[0m\u001b[0;34m(\u001b[0m\u001b[0mmode\u001b[0m\u001b[0;34m,\u001b[0m \u001b[0msize\u001b[0m\u001b[0;34m,\u001b[0m \u001b[0mobj\u001b[0m\u001b[0;34m,\u001b[0m \u001b[0;34m\"raw\"\u001b[0m\u001b[0;34m,\u001b[0m \u001b[0mrawmode\u001b[0m\u001b[0;34m,\u001b[0m \u001b[0;36m0\u001b[0m\u001b[0;34m,\u001b[0m \u001b[0;36m1\u001b[0m\u001b[0;34m)\u001b[0m\u001b[0;34m\u001b[0m\u001b[0;34m\u001b[0m\u001b[0m\n\u001b[0m\u001b[1;32m   2667\u001b[0m \u001b[0;34m\u001b[0m\u001b[0m\n\u001b[1;32m   2668\u001b[0m \u001b[0;34m\u001b[0m\u001b[0m\n",
            "\u001b[0;32m/usr/local/lib/python3.6/dist-packages/PIL/Image.py\u001b[0m in \u001b[0;36mfrombuffer\u001b[0;34m(mode, size, data, decoder_name, *args)\u001b[0m\n\u001b[1;32m   2602\u001b[0m             \u001b[0margs\u001b[0m \u001b[0;34m=\u001b[0m \u001b[0mmode\u001b[0m\u001b[0;34m,\u001b[0m \u001b[0;36m0\u001b[0m\u001b[0;34m,\u001b[0m \u001b[0;34m-\u001b[0m\u001b[0;36m1\u001b[0m  \u001b[0;31m# may change to (mode, 0, 1) post-1.1.6\u001b[0m\u001b[0;34m\u001b[0m\u001b[0;34m\u001b[0m\u001b[0m\n\u001b[1;32m   2603\u001b[0m         \u001b[0;32mif\u001b[0m \u001b[0margs\u001b[0m\u001b[0;34m[\u001b[0m\u001b[0;36m0\u001b[0m\u001b[0;34m]\u001b[0m \u001b[0;32min\u001b[0m \u001b[0m_MAPMODES\u001b[0m\u001b[0;34m:\u001b[0m\u001b[0;34m\u001b[0m\u001b[0;34m\u001b[0m\u001b[0m\n\u001b[0;32m-> 2604\u001b[0;31m             \u001b[0mim\u001b[0m \u001b[0;34m=\u001b[0m \u001b[0mnew\u001b[0m\u001b[0;34m(\u001b[0m\u001b[0mmode\u001b[0m\u001b[0;34m,\u001b[0m \u001b[0;34m(\u001b[0m\u001b[0;36m1\u001b[0m\u001b[0;34m,\u001b[0m \u001b[0;36m1\u001b[0m\u001b[0;34m)\u001b[0m\u001b[0;34m)\u001b[0m\u001b[0;34m\u001b[0m\u001b[0;34m\u001b[0m\u001b[0m\n\u001b[0m\u001b[1;32m   2605\u001b[0m             \u001b[0mim\u001b[0m \u001b[0;34m=\u001b[0m \u001b[0mim\u001b[0m\u001b[0;34m.\u001b[0m\u001b[0m_new\u001b[0m\u001b[0;34m(\u001b[0m\u001b[0mcore\u001b[0m\u001b[0;34m.\u001b[0m\u001b[0mmap_buffer\u001b[0m\u001b[0;34m(\u001b[0m\u001b[0mdata\u001b[0m\u001b[0;34m,\u001b[0m \u001b[0msize\u001b[0m\u001b[0;34m,\u001b[0m \u001b[0mdecoder_name\u001b[0m\u001b[0;34m,\u001b[0m \u001b[0;32mNone\u001b[0m\u001b[0;34m,\u001b[0m \u001b[0;36m0\u001b[0m\u001b[0;34m,\u001b[0m \u001b[0margs\u001b[0m\u001b[0;34m)\u001b[0m\u001b[0;34m)\u001b[0m\u001b[0;34m\u001b[0m\u001b[0;34m\u001b[0m\u001b[0m\n\u001b[1;32m   2606\u001b[0m             \u001b[0mim\u001b[0m\u001b[0;34m.\u001b[0m\u001b[0mreadonly\u001b[0m \u001b[0;34m=\u001b[0m \u001b[0;36m1\u001b[0m\u001b[0;34m\u001b[0m\u001b[0;34m\u001b[0m\u001b[0m\n",
            "\u001b[0;32m/usr/local/lib/python3.6/dist-packages/PIL/Image.py\u001b[0m in \u001b[0;36mnew\u001b[0;34m(mode, size, color)\u001b[0m\n\u001b[1;32m   2503\u001b[0m         \u001b[0mim\u001b[0m\u001b[0;34m.\u001b[0m\u001b[0mpalette\u001b[0m \u001b[0;34m=\u001b[0m \u001b[0mImagePalette\u001b[0m\u001b[0;34m.\u001b[0m\u001b[0mImagePalette\u001b[0m\u001b[0;34m(\u001b[0m\u001b[0;34m)\u001b[0m\u001b[0;34m\u001b[0m\u001b[0;34m\u001b[0m\u001b[0m\n\u001b[1;32m   2504\u001b[0m         \u001b[0mcolor\u001b[0m \u001b[0;34m=\u001b[0m \u001b[0mim\u001b[0m\u001b[0;34m.\u001b[0m\u001b[0mpalette\u001b[0m\u001b[0;34m.\u001b[0m\u001b[0mgetcolor\u001b[0m\u001b[0;34m(\u001b[0m\u001b[0mcolor\u001b[0m\u001b[0;34m)\u001b[0m\u001b[0;34m\u001b[0m\u001b[0;34m\u001b[0m\u001b[0m\n\u001b[0;32m-> 2505\u001b[0;31m     \u001b[0;32mreturn\u001b[0m \u001b[0mim\u001b[0m\u001b[0;34m.\u001b[0m\u001b[0m_new\u001b[0m\u001b[0;34m(\u001b[0m\u001b[0mcore\u001b[0m\u001b[0;34m.\u001b[0m\u001b[0mfill\u001b[0m\u001b[0;34m(\u001b[0m\u001b[0mmode\u001b[0m\u001b[0;34m,\u001b[0m \u001b[0msize\u001b[0m\u001b[0;34m,\u001b[0m \u001b[0mcolor\u001b[0m\u001b[0;34m)\u001b[0m\u001b[0;34m)\u001b[0m\u001b[0;34m\u001b[0m\u001b[0;34m\u001b[0m\u001b[0m\n\u001b[0m\u001b[1;32m   2506\u001b[0m \u001b[0;34m\u001b[0m\u001b[0m\n\u001b[1;32m   2507\u001b[0m \u001b[0;34m\u001b[0m\u001b[0m\n",
            "\u001b[0;32m/usr/local/lib/python3.6/dist-packages/PIL/Image.py\u001b[0m in \u001b[0;36m_new\u001b[0;34m(self, im)\u001b[0m\n\u001b[1;32m    571\u001b[0m \u001b[0;34m\u001b[0m\u001b[0m\n\u001b[1;32m    572\u001b[0m     \u001b[0;32mdef\u001b[0m \u001b[0m_new\u001b[0m\u001b[0;34m(\u001b[0m\u001b[0mself\u001b[0m\u001b[0;34m,\u001b[0m \u001b[0mim\u001b[0m\u001b[0;34m)\u001b[0m\u001b[0;34m:\u001b[0m\u001b[0;34m\u001b[0m\u001b[0;34m\u001b[0m\u001b[0m\n\u001b[0;32m--> 573\u001b[0;31m         \u001b[0mnew\u001b[0m \u001b[0;34m=\u001b[0m \u001b[0mImage\u001b[0m\u001b[0;34m(\u001b[0m\u001b[0;34m)\u001b[0m\u001b[0;34m\u001b[0m\u001b[0;34m\u001b[0m\u001b[0m\n\u001b[0m\u001b[1;32m    574\u001b[0m         \u001b[0mnew\u001b[0m\u001b[0;34m.\u001b[0m\u001b[0mim\u001b[0m \u001b[0;34m=\u001b[0m \u001b[0mim\u001b[0m\u001b[0;34m\u001b[0m\u001b[0;34m\u001b[0m\u001b[0m\n\u001b[1;32m    575\u001b[0m         \u001b[0mnew\u001b[0m\u001b[0;34m.\u001b[0m\u001b[0mmode\u001b[0m \u001b[0;34m=\u001b[0m \u001b[0mim\u001b[0m\u001b[0;34m.\u001b[0m\u001b[0mmode\u001b[0m\u001b[0;34m\u001b[0m\u001b[0;34m\u001b[0m\u001b[0m\n",
            "\u001b[0;32m/usr/local/lib/python3.6/dist-packages/PIL/Image.py\u001b[0m in \u001b[0;36m__init__\u001b[0;34m(self)\u001b[0m\n\u001b[1;32m    552\u001b[0m         \u001b[0mself\u001b[0m\u001b[0;34m.\u001b[0m\u001b[0m_size\u001b[0m \u001b[0;34m=\u001b[0m \u001b[0;34m(\u001b[0m\u001b[0;36m0\u001b[0m\u001b[0;34m,\u001b[0m \u001b[0;36m0\u001b[0m\u001b[0;34m)\u001b[0m\u001b[0;34m\u001b[0m\u001b[0;34m\u001b[0m\u001b[0m\n\u001b[1;32m    553\u001b[0m         \u001b[0mself\u001b[0m\u001b[0;34m.\u001b[0m\u001b[0mpalette\u001b[0m \u001b[0;34m=\u001b[0m \u001b[0;32mNone\u001b[0m\u001b[0;34m\u001b[0m\u001b[0;34m\u001b[0m\u001b[0m\n\u001b[0;32m--> 554\u001b[0;31m         \u001b[0mself\u001b[0m\u001b[0;34m.\u001b[0m\u001b[0minfo\u001b[0m \u001b[0;34m=\u001b[0m \u001b[0;34m{\u001b[0m\u001b[0;34m}\u001b[0m\u001b[0;34m\u001b[0m\u001b[0;34m\u001b[0m\u001b[0m\n\u001b[0m\u001b[1;32m    555\u001b[0m         \u001b[0mself\u001b[0m\u001b[0;34m.\u001b[0m\u001b[0mcategory\u001b[0m \u001b[0;34m=\u001b[0m \u001b[0mNORMAL\u001b[0m\u001b[0;34m\u001b[0m\u001b[0;34m\u001b[0m\u001b[0m\n\u001b[1;32m    556\u001b[0m         \u001b[0mself\u001b[0m\u001b[0;34m.\u001b[0m\u001b[0mreadonly\u001b[0m \u001b[0;34m=\u001b[0m \u001b[0;36m0\u001b[0m\u001b[0;34m\u001b[0m\u001b[0;34m\u001b[0m\u001b[0m\n",
            "\u001b[0;31mKeyboardInterrupt\u001b[0m: "
          ]
        }
      ]
    },
    {
      "cell_type": "code",
      "metadata": {
        "id": "UcdkEDcH0DYC",
        "colab_type": "code",
        "colab": {}
      },
      "source": [
        "'''\n",
        "to predict do a with torch.no_grad(): this is because we dont need to be calculating the gradients when predicting\n",
        "                    model.forward(testdata)"
      ],
      "execution_count": 0,
      "outputs": []
    },
    {
      "cell_type": "markdown",
      "metadata": {
        "id": "12eF4ylbC9J5",
        "colab_type": "text"
      },
      "source": [
        "## Dense Neural Network"
      ]
    },
    {
      "cell_type": "code",
      "metadata": {
        "id": "x7vKSPdsJK1c",
        "colab_type": "code",
        "colab": {
          "base_uri": "https://localhost:8080/",
          "height": 1000
        },
        "outputId": "766382cc-0f69-473a-c205-10b7b3475226"
      },
      "source": [
        "import torch\n",
        "import torch.nn as nn\n",
        "from torchvision import datasets,transforms\n",
        "from torch.utils.data import DataLoader\n",
        "from torch.optim import SGD \n",
        "\n",
        "transform=transforms.Compose([\n",
        "                              transforms.ToTensor(),\n",
        "                              transforms.Normalize((0.5,),(0.5,))\n",
        "]) # transformation pipeline for the data\n",
        "\n",
        "trainset=datasets.MNIST('MNIST_data/',download=True,train=True,transform=transform)# downloading the data\n",
        "trainloader=DataLoader(trainset,batch_size=64,shuffle=True)# making an iterable for the dataset\n",
        "\n",
        "model=nn.Sequential(\n",
        "    nn.Linear(28*28,128),\n",
        "    nn.ReLU(),\n",
        "    nn.Linear(128,64),\n",
        "    nn.ReLU(),\n",
        "    nn.Linear(64,10),\n",
        "    nn.LogSoftmax(dim=1)\n",
        ")# neural network\n",
        "criterion=nn.NLLLoss() # loss function\n",
        "\n",
        "optimizer=SGD(model.parameters(),lr=0.01) # the optimizer that updates weights\n",
        "epochs=100 # number of times the neural network will go through the dataset\n",
        "losses=[]\n",
        "for epoch in range(epochs):\n",
        "  print(f'EPOCH: {epoch}')\n",
        "  running_loss=0 # total loss of all the batches\n",
        "  for images,labels in trainloader:\n",
        "    images=images.view(images.shape[0],-1) # flattening the tensor\n",
        "    optimizer.zero_grad()#resetting the gradients on each unit\n",
        "    output=model.forward(images)#forward propagation to calculates logits\n",
        "    loss=criterion(output,labels) # calculating the loss\n",
        "    running_loss+=loss.item()\n",
        "    loss.backward()#backward propagate to calculate gradient for each unit\n",
        "    optimizer.step()# update weight based on the new gradient values\n",
        "    \n",
        "  else:\n",
        "    epochloss=running_loss/len(trainloader) # loss in this epoch\n",
        "    losses.append(epochloss)\n",
        "    print(f'Loss for this epoch : {epochloss}')\n",
        "    print('*'*10)"
      ],
      "execution_count": 46,
      "outputs": [
        {
          "output_type": "stream",
          "text": [
            "EPOCH: 0\n",
            "Loss for this epoch : 1.1032723179821775\n",
            "**********\n",
            "EPOCH: 1\n",
            "Loss for this epoch : 0.3899809421061961\n",
            "**********\n",
            "EPOCH: 2\n",
            "Loss for this epoch : 0.32780666766104416\n",
            "**********\n",
            "EPOCH: 3\n",
            "Loss for this epoch : 0.2967261749702984\n",
            "**********\n",
            "EPOCH: 4\n",
            "Loss for this epoch : 0.2725922154671729\n",
            "**********\n",
            "EPOCH: 5\n",
            "Loss for this epoch : 0.25232211225576745\n",
            "**********\n",
            "EPOCH: 6\n",
            "Loss for this epoch : 0.23227151388775058\n",
            "**********\n",
            "EPOCH: 7\n",
            "Loss for this epoch : 0.21372488507631618\n",
            "**********\n",
            "EPOCH: 8\n",
            "Loss for this epoch : 0.19691435874763455\n",
            "**********\n",
            "EPOCH: 9\n",
            "Loss for this epoch : 0.1819704613213473\n",
            "**********\n",
            "EPOCH: 10\n",
            "Loss for this epoch : 0.16821702098700284\n",
            "**********\n",
            "EPOCH: 11\n",
            "Loss for this epoch : 0.15632673688153467\n",
            "**********\n",
            "EPOCH: 12\n",
            "Loss for this epoch : 0.14641257720207101\n",
            "**********\n",
            "EPOCH: 13\n",
            "Loss for this epoch : 0.13665320461631805\n",
            "**********\n",
            "EPOCH: 14\n",
            "Loss for this epoch : 0.12888713261442208\n",
            "**********\n",
            "EPOCH: 15\n",
            "Loss for this epoch : 0.12123775632897102\n",
            "**********\n",
            "EPOCH: 16\n",
            "Loss for this epoch : 0.11432735639701742\n",
            "**********\n",
            "EPOCH: 17\n",
            "Loss for this epoch : 0.10852689966400549\n",
            "**********\n",
            "EPOCH: 18\n",
            "Loss for this epoch : 0.10307839568624937\n",
            "**********\n",
            "EPOCH: 19\n",
            "Loss for this epoch : 0.09793807743693084\n",
            "**********\n",
            "EPOCH: 20\n",
            "Loss for this epoch : 0.09318895808764613\n",
            "**********\n",
            "EPOCH: 21\n",
            "Loss for this epoch : 0.08958834226725738\n",
            "**********\n",
            "EPOCH: 22\n",
            "Loss for this epoch : 0.08487702488823771\n",
            "**********\n",
            "EPOCH: 23\n",
            "Loss for this epoch : 0.08141701222697237\n",
            "**********\n",
            "EPOCH: 24\n",
            "Loss for this epoch : 0.07786347600234263\n",
            "**********\n",
            "EPOCH: 25\n",
            "Loss for this epoch : 0.07506410073516752\n",
            "**********\n",
            "EPOCH: 26\n",
            "Loss for this epoch : 0.07175530428871084\n",
            "**********\n",
            "EPOCH: 27\n",
            "Loss for this epoch : 0.06912413467841744\n",
            "**********\n",
            "EPOCH: 28\n",
            "Loss for this epoch : 0.06606966699026763\n",
            "**********\n",
            "EPOCH: 29\n",
            "Loss for this epoch : 0.06354851776541376\n",
            "**********\n",
            "EPOCH: 30\n",
            "Loss for this epoch : 0.06095159857589474\n",
            "**********\n",
            "EPOCH: 31\n",
            "Loss for this epoch : 0.058582619142367134\n",
            "**********\n",
            "EPOCH: 32\n",
            "Loss for this epoch : 0.056870531970396765\n",
            "**********\n",
            "EPOCH: 33\n",
            "Loss for this epoch : 0.05476941306889653\n",
            "**********\n",
            "EPOCH: 34\n",
            "Loss for this epoch : 0.05232374528363379\n",
            "**********\n",
            "EPOCH: 35\n",
            "Loss for this epoch : 0.05059547667334011\n",
            "**********\n",
            "EPOCH: 36\n",
            "Loss for this epoch : 0.04861090435504492\n",
            "**********\n",
            "EPOCH: 37\n",
            "Loss for this epoch : 0.04691031999783769\n",
            "**********\n",
            "EPOCH: 38\n",
            "Loss for this epoch : 0.04583070514503239\n",
            "**********\n",
            "EPOCH: 39\n",
            "Loss for this epoch : 0.043965623899698575\n",
            "**********\n",
            "EPOCH: 40\n",
            "Loss for this epoch : 0.04246937145820574\n",
            "**********\n",
            "EPOCH: 41\n",
            "Loss for this epoch : 0.04089037769475082\n",
            "**********\n",
            "EPOCH: 42\n",
            "Loss for this epoch : 0.039622297193527396\n",
            "**********\n",
            "EPOCH: 43\n",
            "Loss for this epoch : 0.038233169722609095\n",
            "**********\n",
            "EPOCH: 44\n",
            "Loss for this epoch : 0.03672993574802801\n",
            "**********\n",
            "EPOCH: 45\n",
            "Loss for this epoch : 0.035545695010376084\n",
            "**********\n",
            "EPOCH: 46\n",
            "Loss for this epoch : 0.03404358126146635\n",
            "**********\n",
            "EPOCH: 47\n",
            "Loss for this epoch : 0.0327820854521156\n",
            "**********\n",
            "EPOCH: 48\n",
            "Loss for this epoch : 0.03156197510686006\n",
            "**********\n",
            "EPOCH: 49\n",
            "Loss for this epoch : 0.030785009561445136\n",
            "**********\n",
            "EPOCH: 50\n",
            "Loss for this epoch : 0.029584748532200084\n",
            "**********\n",
            "EPOCH: 51\n",
            "Loss for this epoch : 0.0290260749773732\n",
            "**********\n",
            "EPOCH: 52\n",
            "Loss for this epoch : 0.027848899825540646\n",
            "**********\n",
            "EPOCH: 53\n",
            "Loss for this epoch : 0.026927391818448054\n",
            "**********\n",
            "EPOCH: 54\n",
            "Loss for this epoch : 0.026089765129611888\n",
            "**********\n",
            "EPOCH: 55\n",
            "Loss for this epoch : 0.025363746856618276\n",
            "**********\n",
            "EPOCH: 56\n",
            "Loss for this epoch : 0.024315404273799933\n",
            "**********\n",
            "EPOCH: 57\n",
            "Loss for this epoch : 0.023399040995434776\n",
            "**********\n",
            "EPOCH: 58\n",
            "Loss for this epoch : 0.0226339196827489\n",
            "**********\n",
            "EPOCH: 59\n",
            "Loss for this epoch : 0.021938856012735968\n",
            "**********\n",
            "EPOCH: 60\n",
            "Loss for this epoch : 0.021063851612582327\n",
            "**********\n",
            "EPOCH: 61\n",
            "Loss for this epoch : 0.020418158428160662\n",
            "**********\n",
            "EPOCH: 62\n",
            "Loss for this epoch : 0.019817151278239995\n",
            "**********\n",
            "EPOCH: 63\n",
            "Loss for this epoch : 0.01886907278367483\n",
            "**********\n",
            "EPOCH: 64\n",
            "Loss for this epoch : 0.01841647282398161\n",
            "**********\n",
            "EPOCH: 65\n",
            "Loss for this epoch : 0.01782154067228836\n",
            "**********\n",
            "EPOCH: 66\n",
            "Loss for this epoch : 0.01733607550606882\n",
            "**********\n",
            "EPOCH: 67\n",
            "Loss for this epoch : 0.016996680417094134\n",
            "**********\n",
            "EPOCH: 68\n",
            "Loss for this epoch : 0.016040357475879907\n",
            "**********\n",
            "EPOCH: 69\n",
            "Loss for this epoch : 0.015323256171727454\n",
            "**********\n",
            "EPOCH: 70\n",
            "Loss for this epoch : 0.015005537276235678\n",
            "**********\n",
            "EPOCH: 71\n",
            "Loss for this epoch : 0.014473518619763363\n",
            "**********\n",
            "EPOCH: 72\n",
            "Loss for this epoch : 0.013986386689057113\n",
            "**********\n",
            "EPOCH: 73\n",
            "Loss for this epoch : 0.013687455967938187\n",
            "**********\n",
            "EPOCH: 74\n",
            "Loss for this epoch : 0.013067847257033229\n",
            "**********\n",
            "EPOCH: 75\n",
            "Loss for this epoch : 0.01253949823667174\n",
            "**********\n",
            "EPOCH: 76\n",
            "Loss for this epoch : 0.012230527408423274\n",
            "**********\n",
            "EPOCH: 77\n",
            "Loss for this epoch : 0.012061452695433158\n",
            "**********\n",
            "EPOCH: 78\n",
            "Loss for this epoch : 0.011616836529290145\n",
            "**********\n",
            "EPOCH: 79\n",
            "Loss for this epoch : 0.011046240699254344\n",
            "**********\n",
            "EPOCH: 80\n",
            "Loss for this epoch : 0.010868037901401742\n",
            "**********\n",
            "EPOCH: 81\n",
            "Loss for this epoch : 0.010697758411489693\n",
            "**********\n",
            "EPOCH: 82\n",
            "Loss for this epoch : 0.01024490335883239\n",
            "**********\n",
            "EPOCH: 83\n",
            "Loss for this epoch : 0.009852350767380915\n",
            "**********\n",
            "EPOCH: 84\n",
            "Loss for this epoch : 0.009561709849431223\n",
            "**********\n",
            "EPOCH: 85\n",
            "Loss for this epoch : 0.009282700316852648\n",
            "**********\n",
            "EPOCH: 86\n",
            "Loss for this epoch : 0.009002574659636501\n",
            "**********\n",
            "EPOCH: 87\n",
            "Loss for this epoch : 0.008547994739022046\n",
            "**********\n",
            "EPOCH: 88\n",
            "Loss for this epoch : 0.008363417884453323\n",
            "**********\n",
            "EPOCH: 89\n",
            "Loss for this epoch : 0.00819556175765625\n",
            "**********\n",
            "EPOCH: 90\n",
            "Loss for this epoch : 0.007764959011070762\n",
            "**********\n",
            "EPOCH: 91\n",
            "Loss for this epoch : 0.00779871767118592\n",
            "**********\n",
            "EPOCH: 92\n",
            "Loss for this epoch : 0.00743056795178371\n",
            "**********\n",
            "EPOCH: 93\n",
            "Loss for this epoch : 0.007288408925914929\n",
            "**********\n",
            "EPOCH: 94\n",
            "Loss for this epoch : 0.007067476489843288\n",
            "**********\n",
            "EPOCH: 95\n",
            "Loss for this epoch : 0.0067477034688651705\n",
            "**********\n",
            "EPOCH: 96\n",
            "Loss for this epoch : 0.006669738530803761\n",
            "**********\n",
            "EPOCH: 97\n",
            "Loss for this epoch : 0.006496448449184572\n",
            "**********\n",
            "EPOCH: 98\n",
            "Loss for this epoch : 0.006274989801911396\n",
            "**********\n",
            "EPOCH: 99\n",
            "Loss for this epoch : 0.006008075010117718\n",
            "**********\n"
          ],
          "name": "stdout"
        }
      ]
    },
    {
      "cell_type": "code",
      "metadata": {
        "id": "xihWVFFIQmpU",
        "colab_type": "code",
        "colab": {}
      },
      "source": [
        "import numpy as np\n",
        "losses=np.array(losses)\n",
        "index=np.arange(len(losses))"
      ],
      "execution_count": 0,
      "outputs": []
    },
    {
      "cell_type": "code",
      "metadata": {
        "id": "FmxKjrSOVK7C",
        "colab_type": "code",
        "colab": {
          "base_uri": "https://localhost:8080/",
          "height": 282
        },
        "outputId": "663eef18-f100-4a98-def7-9829a44c109c"
      },
      "source": [
        "sns.lineplot(index,losses)"
      ],
      "execution_count": 57,
      "outputs": [
        {
          "output_type": "execute_result",
          "data": {
            "text/plain": [
              "<matplotlib.axes._subplots.AxesSubplot at 0x7f5b80d35ef0>"
            ]
          },
          "metadata": {
            "tags": []
          },
          "execution_count": 57
        },
        {
          "output_type": "display_data",
          "data": {
            "image/png": "[encoded data removed]",
            "text/plain": [
              "<Figure size 432x288 with 1 Axes>"
            ]
          },
          "metadata": {
            "tags": []
          }
        }
      ]
    },
    {
      "cell_type": "code",
      "metadata": {
        "id": "huCEBRfbVjiM",
        "colab_type": "code",
        "colab": {
          "base_uri": "https://localhost:8080/",
          "height": 405,
          "referenced_widgets": [
            "d475f3b4a13946329a36a613081f7fef",
            "1dc7cb73892f4b7ebf75f61ddb9925dc",
            "bd8716b4d0cd45cb8fc10ffeb7169988",
            "f6570109ed86446a884f48ee1321c9cb",
            "9ba1f7211510418684fbd474d00216a6",
            "cd0fd743392b4d50a37db276a2c20d69",
            "97d894e5b3264a06b60e82d2d366ef98",
            "4a636fc611ff413a822f9471a1859ce9",
            "594ed47aea6540f79c9c85e362398f84",
            "d018b76b5d1d47a481433748a995e759",
            "3de785b1714e467a97ceb4d83ce3a192",
            "62746e272f474b6b894e7f1e1a9a2de4",
            "b9909b65d2fd4052845cd00ee719f8d7",
            "d4d42cdfe1ee45f6a0960f608f9b0f83",
            "b2d71be6820d4a849f416799d2398db5",
            "cd18695d6d8049f3a909d2fb980fc70e",
            "fd6f2bbb6bed46dc828902ff917a6110",
            "a0a8283fc3a349b69d188784fd6ef5e7",
            "8315e23ea7de40f6b7d015380564f4a1",
            "9a233aef626d4600b3a72e8ebc04fc43",
            "fcac3cd2532441a8bf1c638aad30a60f",
            "8a376ef3f3954725977294e52a93d71b",
            "3e2ec11b901a4a33a8808535b0601363",
            "dc720143bbeb4dcdae638501be8314fe",
            "36f62e24b08c484e88b8a2ac56589bdd",
            "9440cc38150547e1a2691fffda548061",
            "40f25173f3a34a95828f602817f3447a",
            "3f9b883da9c24a5a88be930b9ea9b854",
            "82d3d9127a364288b05544954ac16605",
            "f7e950a8d27c4cafbc246501064e0b25",
            "a13260cb8e564cd1846a76e9912c0111",
            "890151e7a3784bcabdef84861ee88e27"
          ]
        },
        "outputId": "3e318315-8fb2-4286-ec7d-0b994091db0e"
      },
      "source": [
        "test=datasets.MNIST('MNIST_data_testing/',download=True,train=False,transform=transform)\n",
        "testloader=DataLoader(test,batch_size=64,shuffle=True)"
      ],
      "execution_count": 59,
      "outputs": [
        {
          "output_type": "stream",
          "text": [
            "Downloading http://yann.lecun.com/exdb/mnist/train-images-idx3-ubyte.gz to MNIST_data_testing/MNIST/raw/train-images-idx3-ubyte.gz\n"
          ],
          "name": "stdout"
        },
        {
          "output_type": "display_data",
          "data": {
            "application/vnd.jupyter.widget-view+json": {
              "model_id": "d475f3b4a13946329a36a613081f7fef",
              "version_minor": 0,
              "version_major": 2
            },
            "text/plain": [
              "HBox(children=(IntProgress(value=1, bar_style='info', max=1), HTML(value='')))"
            ]
          },
          "metadata": {
            "tags": []
          }
        },
        {
          "output_type": "stream",
          "text": [
            "\n",
            "Extracting MNIST_data_testing/MNIST/raw/train-images-idx3-ubyte.gz to MNIST_data_testing/MNIST/raw\n",
            "Downloading http://yann.lecun.com/exdb/mnist/train-labels-idx1-ubyte.gz to MNIST_data_testing/MNIST/raw/train-labels-idx1-ubyte.gz\n"
          ],
          "name": "stdout"
        },
        {
          "output_type": "display_data",
          "data": {
            "application/vnd.jupyter.widget-view+json": {
              "model_id": "594ed47aea6540f79c9c85e362398f84",
              "version_minor": 0,
              "version_major": 2
            },
            "text/plain": [
              "HBox(children=(IntProgress(value=1, bar_style='info', max=1), HTML(value='')))"
            ]
          },
          "metadata": {
            "tags": []
          }
        },
        {
          "output_type": "stream",
          "text": [
            "\n",
            "Extracting MNIST_data_testing/MNIST/raw/train-labels-idx1-ubyte.gz to MNIST_data_testing/MNIST/raw\n",
            "Downloading http://yann.lecun.com/exdb/mnist/t10k-images-idx3-ubyte.gz to MNIST_data_testing/MNIST/raw/t10k-images-idx3-ubyte.gz\n"
          ],
          "name": "stdout"
        },
        {
          "output_type": "display_data",
          "data": {
            "application/vnd.jupyter.widget-view+json": {
              "model_id": "fd6f2bbb6bed46dc828902ff917a6110",
              "version_minor": 0,
              "version_major": 2
            },
            "text/plain": [
              "HBox(children=(IntProgress(value=1, bar_style='info', max=1), HTML(value='')))"
            ]
          },
          "metadata": {
            "tags": []
          }
        },
        {
          "output_type": "stream",
          "text": [
            "\n",
            "Extracting MNIST_data_testing/MNIST/raw/t10k-images-idx3-ubyte.gz to MNIST_data_testing/MNIST/raw\n",
            "Downloading http://yann.lecun.com/exdb/mnist/t10k-labels-idx1-ubyte.gz to MNIST_data_testing/MNIST/raw/t10k-labels-idx1-ubyte.gz\n"
          ],
          "name": "stdout"
        },
        {
          "output_type": "display_data",
          "data": {
            "application/vnd.jupyter.widget-view+json": {
              "model_id": "36f62e24b08c484e88b8a2ac56589bdd",
              "version_minor": 0,
              "version_major": 2
            },
            "text/plain": [
              "HBox(children=(IntProgress(value=1, bar_style='info', max=1), HTML(value='')))"
            ]
          },
          "metadata": {
            "tags": []
          }
        },
        {
          "output_type": "stream",
          "text": [
            "\n",
            "Extracting MNIST_data_testing/MNIST/raw/t10k-labels-idx1-ubyte.gz to MNIST_data_testing/MNIST/raw\n",
            "Processing...\n",
            "Done!\n"
          ],
          "name": "stdout"
        }
      ]
    },
    {
      "cell_type": "code",
      "metadata": {
        "id": "VoLQ5pU3V9AF",
        "colab_type": "code",
        "colab": {}
      },
      "source": [
        "images,labels=next(iter(testloader))    "
      ],
      "execution_count": 0,
      "outputs": []
    },
    {
      "cell_type": "code",
      "metadata": {
        "id": "H6xfz4rSWfax",
        "colab_type": "code",
        "colab": {
          "base_uri": "https://localhost:8080/",
          "height": 34
        },
        "outputId": "3086e487-f991-40df-85ad-b9cebdeb2a18"
      },
      "source": [
        "images.shape"
      ],
      "execution_count": 62,
      "outputs": [
        {
          "output_type": "execute_result",
          "data": {
            "text/plain": [
              "torch.Size([64, 1, 28, 28])"
            ]
          },
          "metadata": {
            "tags": []
          },
          "execution_count": 62
        }
      ]
    },
    {
      "cell_type": "code",
      "metadata": {
        "id": "B8HVcRW8WgXG",
        "colab_type": "code",
        "colab": {
          "base_uri": "https://localhost:8080/",
          "height": 34
        },
        "outputId": "98d8607e-64e3-4162-df06-04a1c7720c4a"
      },
      "source": [
        "labels.shape"
      ],
      "execution_count": 63,
      "outputs": [
        {
          "output_type": "execute_result",
          "data": {
            "text/plain": [
              "torch.Size([64])"
            ]
          },
          "metadata": {
            "tags": []
          },
          "execution_count": 63
        }
      ]
    },
    {
      "cell_type": "code",
      "metadata": {
        "id": "y-reNXyNWhn4",
        "colab_type": "code",
        "colab": {
          "base_uri": "https://localhost:8080/",
          "height": 34
        },
        "outputId": "347560a5-e230-491b-c402-40f737697b67"
      },
      "source": [
        "images=images.view(images.shape[0],-1)\n",
        "images.shape"
      ],
      "execution_count": 64,
      "outputs": [
        {
          "output_type": "execute_result",
          "data": {
            "text/plain": [
              "torch.Size([64, 784])"
            ]
          },
          "metadata": {
            "tags": []
          },
          "execution_count": 64
        }
      ]
    },
    {
      "cell_type": "code",
      "metadata": {
        "id": "-JXsq3_3WoT3",
        "colab_type": "code",
        "colab": {}
      },
      "source": [
        "with torch.no_grad():\n",
        "  logits=model.forward(images)"
      ],
      "execution_count": 0,
      "outputs": []
    },
    {
      "cell_type": "code",
      "metadata": {
        "id": "E6AGdjxxWs37",
        "colab_type": "code",
        "colab": {
          "base_uri": "https://localhost:8080/",
          "height": 34
        },
        "outputId": "a598e947-0512-469a-ad7a-afcbd88fc541"
      },
      "source": [
        "logits.shape"
      ],
      "execution_count": 66,
      "outputs": [
        {
          "output_type": "execute_result",
          "data": {
            "text/plain": [
              "torch.Size([64, 10])"
            ]
          },
          "metadata": {
            "tags": []
          },
          "execution_count": 66
        }
      ]
    },
    {
      "cell_type": "code",
      "metadata": {
        "id": "nDumrr6BWt1C",
        "colab_type": "code",
        "colab": {
          "base_uri": "https://localhost:8080/",
          "height": 51
        },
        "outputId": "63b46e63-c719-4e95-c729-3214195a6d68"
      },
      "source": [
        "logits[0]"
      ],
      "execution_count": 67,
      "outputs": [
        {
          "output_type": "execute_result",
          "data": {
            "text/plain": [
              "tensor([-2.9698e+01, -1.3017e-04, -1.5828e+01, -1.1953e+01, -9.1018e+00,\n",
              "        -2.0245e+01, -1.6529e+01, -1.1874e+01, -1.2215e+01, -1.5797e+01])"
            ]
          },
          "metadata": {
            "tags": []
          },
          "execution_count": 67
        }
      ]
    },
    {
      "cell_type": "code",
      "metadata": {
        "id": "hrx3G6nTWyR7",
        "colab_type": "code",
        "colab": {
          "base_uri": "https://localhost:8080/",
          "height": 34
        },
        "outputId": "6ce38e13-6b9d-4478-d425-bdee2c1f76b2"
      },
      "source": [
        "np.argmax(logits[0])"
      ],
      "execution_count": 68,
      "outputs": [
        {
          "output_type": "execute_result",
          "data": {
            "text/plain": [
              "tensor(1)"
            ]
          },
          "metadata": {
            "tags": []
          },
          "execution_count": 68
        }
      ]
    },
    {
      "cell_type": "code",
      "metadata": {
        "id": "CUE4Hh2DW01p",
        "colab_type": "code",
        "colab": {
          "base_uri": "https://localhost:8080/",
          "height": 34
        },
        "outputId": "2810a85b-ba19-48d9-83b8-e1eedc45926e"
      },
      "source": [
        "labels.shape"
      ],
      "execution_count": 69,
      "outputs": [
        {
          "output_type": "execute_result",
          "data": {
            "text/plain": [
              "torch.Size([64])"
            ]
          },
          "metadata": {
            "tags": []
          },
          "execution_count": 69
        }
      ]
    },
    {
      "cell_type": "code",
      "metadata": {
        "id": "9DiDNWSnYPPT",
        "colab_type": "code",
        "colab": {
          "base_uri": "https://localhost:8080/",
          "height": 34
        },
        "outputId": "aac03c76-a68c-49d7-a48a-850857df0921"
      },
      "source": [
        "x=torch.Tensor([np.argmax(row) for row in logits])\n",
        "x.shape"
      ],
      "execution_count": 78,
      "outputs": [
        {
          "output_type": "execute_result",
          "data": {
            "text/plain": [
              "torch.Size([64])"
            ]
          },
          "metadata": {
            "tags": []
          },
          "execution_count": 78
        }
      ]
    },
    {
      "cell_type": "code",
      "metadata": {
        "id": "S7Qy87wDYkjZ",
        "colab_type": "code",
        "colab": {
          "base_uri": "https://localhost:8080/",
          "height": 34
        },
        "outputId": "27439bed-28a1-4359-ad17-6fc810625d57"
      },
      "source": [
        "labels.shape"
      ],
      "execution_count": 79,
      "outputs": [
        {
          "output_type": "execute_result",
          "data": {
            "text/plain": [
              "torch.Size([64])"
            ]
          },
          "metadata": {
            "tags": []
          },
          "execution_count": 79
        }
      ]
    },
    {
      "cell_type": "code",
      "metadata": {
        "id": "qtsYMnwiY_9F",
        "colab_type": "code",
        "colab": {}
      },
      "source": [
        "y=(x-labels).to_sparse()"
      ],
      "execution_count": 0,
      "outputs": []
    },
    {
      "cell_type": "code",
      "metadata": {
        "id": "2ro-DlARZCTV",
        "colab_type": "code",
        "colab": {
          "base_uri": "https://localhost:8080/",
          "height": 34
        },
        "outputId": "a1c9bb7c-9878-414a-d5d5-2499dc50f51d"
      },
      "source": [
        "y._indices().shape[1]"
      ],
      "execution_count": 100,
      "outputs": [
        {
          "output_type": "execute_result",
          "data": {
            "text/plain": [
              "2"
            ]
          },
          "metadata": {
            "tags": []
          },
          "execution_count": 100
        }
      ]
    },
    {
      "cell_type": "code",
      "metadata": {
        "id": "d9EnJEjUZw6w",
        "colab_type": "code",
        "colab": {
          "base_uri": "https://localhost:8080/",
          "height": 34
        },
        "outputId": "2f52ae96-9887-4d25-e797-14a4e3331ce5"
      },
      "source": [
        "100-(y._indices().shape[1]/y.shape[0])*100"
      ],
      "execution_count": 104,
      "outputs": [
        {
          "output_type": "execute_result",
          "data": {
            "text/plain": [
              "96.875"
            ]
          },
          "metadata": {
            "tags": []
          },
          "execution_count": 104
        }
      ]
    },
    {
      "cell_type": "code",
      "metadata": {
        "id": "DGLwrwhTW66g",
        "colab_type": "code",
        "colab": {
          "base_uri": "https://localhost:8080/",
          "height": 34
        },
        "outputId": "4ef7bebe-9d66-441a-837c-725b14809d24"
      },
      "source": [
        "running_accuracy=0\n",
        "for images,labels in testloader:\n",
        "    images=images.view(images.shape[0],-1)\n",
        "    with torch.no_grad():\n",
        "      outputs=model.forward(images)\n",
        "      predictions=torch.Tensor([np.argmax(row) for row in outputs])\n",
        "      error=(predictions-labels).to_sparse()\n",
        "      batch_accuracy=100-(error._indices().shape[1]/y.shape[0])*100\n",
        "      running_accuracy+=batch_accuracy\n",
        "print(running_accuracy/len(testloader),'%')"
      ],
      "execution_count": 114,
      "outputs": [
        {
          "output_type": "stream",
          "text": [
            "97.68113057324841 %\n"
          ],
          "name": "stdout"
        }
      ]
    },
    {
      "cell_type": "code",
      "metadata": {
        "id": "h1S2BE_ibAmw",
        "colab_type": "code",
        "colab": {}
      },
      "source": [
        ""
      ],
      "execution_count": 0,
      "outputs": []
    },
    {
      "cell_type": "code",
      "metadata": {
        "id": "i4rOzL3Iazx3",
        "colab_type": "code",
        "colab": {}
      },
      "source": [
        ""
      ],
      "execution_count": 0,
      "outputs": []
    }
  ]
}