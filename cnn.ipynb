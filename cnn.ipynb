{
  "nbformat": 4,
  "nbformat_minor": 0,
  "metadata": {
    "colab": {
      "name": "cnn.ipynb",
      "provenance": []
    },
    "kernelspec": {
      "name": "python3",
      "display_name": "Python 3"
    },
    "accelerator": "GPU",
    "widgets": {
      "application/vnd.jupyter.widget-state+json": {
        "fe5fb7766b594e53a7069b15a703733f": {
          "model_module": "@jupyter-widgets/controls",
          "model_name": "HBoxModel",
          "state": {
            "_view_name": "HBoxView",
            "_dom_classes": [],
            "_model_name": "HBoxModel",
            "_view_module": "@jupyter-widgets/controls",
            "_model_module_version": "1.5.0",
            "_view_count": null,
            "_view_module_version": "1.5.0",
            "box_style": "",
            "layout": "IPY_MODEL_8fe1047d846b4e5ea23f85b6ebb4ef76",
            "_model_module": "@jupyter-widgets/controls",
            "children": [
              "IPY_MODEL_913d4c56451342b5b9dfc7ea479b1c2f",
              "IPY_MODEL_52cb2b61b9184af991b3a7e9a1fc34fc"
            ]
          }
        },
        "8fe1047d846b4e5ea23f85b6ebb4ef76": {
          "model_module": "@jupyter-widgets/base",
          "model_name": "LayoutModel",
          "state": {
            "_view_name": "LayoutView",
            "grid_template_rows": null,
            "right": null,
            "justify_content": null,
            "_view_module": "@jupyter-widgets/base",
            "overflow": null,
            "_model_module_version": "1.2.0",
            "_view_count": null,
            "flex_flow": null,
            "width": null,
            "min_width": null,
            "border": null,
            "align_items": null,
            "bottom": null,
            "_model_module": "@jupyter-widgets/base",
            "top": null,
            "grid_column": null,
            "overflow_y": null,
            "overflow_x": null,
            "grid_auto_flow": null,
            "grid_area": null,
            "grid_template_columns": null,
            "flex": null,
            "_model_name": "LayoutModel",
            "justify_items": null,
            "grid_row": null,
            "max_height": null,
            "align_content": null,
            "visibility": null,
            "align_self": null,
            "height": null,
            "min_height": null,
            "padding": null,
            "grid_auto_rows": null,
            "grid_gap": null,
            "max_width": null,
            "order": null,
            "_view_module_version": "1.2.0",
            "grid_template_areas": null,
            "object_position": null,
            "object_fit": null,
            "grid_auto_columns": null,
            "margin": null,
            "display": null,
            "left": null
          }
        },
        "913d4c56451342b5b9dfc7ea479b1c2f": {
          "model_module": "@jupyter-widgets/controls",
          "model_name": "IntProgressModel",
          "state": {
            "_view_name": "ProgressView",
            "style": "IPY_MODEL_adf3977295914e03a5331d262aa2d050",
            "_dom_classes": [],
            "description": "",
            "_model_name": "IntProgressModel",
            "bar_style": "success",
            "max": 1,
            "_view_module": "@jupyter-widgets/controls",
            "_model_module_version": "1.5.0",
            "value": 1,
            "_view_count": null,
            "_view_module_version": "1.5.0",
            "orientation": "horizontal",
            "min": 0,
            "description_tooltip": null,
            "_model_module": "@jupyter-widgets/controls",
            "layout": "IPY_MODEL_0ad5c7d20ae64bf5bb6db2b81b20d4f0"
          }
        },
        "52cb2b61b9184af991b3a7e9a1fc34fc": {
          "model_module": "@jupyter-widgets/controls",
          "model_name": "HTMLModel",
          "state": {
            "_view_name": "HTMLView",
            "style": "IPY_MODEL_9d0551abd2534553a68e882d317a88cb",
            "_dom_classes": [],
            "description": "",
            "_model_name": "HTMLModel",
            "placeholder": "​",
            "_view_module": "@jupyter-widgets/controls",
            "_model_module_version": "1.5.0",
            "value": "170500096it [00:04, 42141837.15it/s]",
            "_view_count": null,
            "_view_module_version": "1.5.0",
            "description_tooltip": null,
            "_model_module": "@jupyter-widgets/controls",
            "layout": "IPY_MODEL_064e2e0806cf4fdfb9235acdc983d354"
          }
        },
        "adf3977295914e03a5331d262aa2d050": {
          "model_module": "@jupyter-widgets/controls",
          "model_name": "ProgressStyleModel",
          "state": {
            "_view_name": "StyleView",
            "_model_name": "ProgressStyleModel",
            "description_width": "",
            "_view_module": "@jupyter-widgets/base",
            "_model_module_version": "1.5.0",
            "_view_count": null,
            "_view_module_version": "1.2.0",
            "bar_color": null,
            "_model_module": "@jupyter-widgets/controls"
          }
        },
        "0ad5c7d20ae64bf5bb6db2b81b20d4f0": {
          "model_module": "@jupyter-widgets/base",
          "model_name": "LayoutModel",
          "state": {
            "_view_name": "LayoutView",
            "grid_template_rows": null,
            "right": null,
            "justify_content": null,
            "_view_module": "@jupyter-widgets/base",
            "overflow": null,
            "_model_module_version": "1.2.0",
            "_view_count": null,
            "flex_flow": null,
            "width": null,
            "min_width": null,
            "border": null,
            "align_items": null,
            "bottom": null,
            "_model_module": "@jupyter-widgets/base",
            "top": null,
            "grid_column": null,
            "overflow_y": null,
            "overflow_x": null,
            "grid_auto_flow": null,
            "grid_area": null,
            "grid_template_columns": null,
            "flex": null,
            "_model_name": "LayoutModel",
            "justify_items": null,
            "grid_row": null,
            "max_height": null,
            "align_content": null,
            "visibility": null,
            "align_self": null,
            "height": null,
            "min_height": null,
            "padding": null,
            "grid_auto_rows": null,
            "grid_gap": null,
            "max_width": null,
            "order": null,
            "_view_module_version": "1.2.0",
            "grid_template_areas": null,
            "object_position": null,
            "object_fit": null,
            "grid_auto_columns": null,
            "margin": null,
            "display": null,
            "left": null
          }
        },
        "9d0551abd2534553a68e882d317a88cb": {
          "model_module": "@jupyter-widgets/controls",
          "model_name": "DescriptionStyleModel",
          "state": {
            "_view_name": "StyleView",
            "_model_name": "DescriptionStyleModel",
            "description_width": "",
            "_view_module": "@jupyter-widgets/base",
            "_model_module_version": "1.5.0",
            "_view_count": null,
            "_view_module_version": "1.2.0",
            "_model_module": "@jupyter-widgets/controls"
          }
        },
        "064e2e0806cf4fdfb9235acdc983d354": {
          "model_module": "@jupyter-widgets/base",
          "model_name": "LayoutModel",
          "state": {
            "_view_name": "LayoutView",
            "grid_template_rows": null,
            "right": null,
            "justify_content": null,
            "_view_module": "@jupyter-widgets/base",
            "overflow": null,
            "_model_module_version": "1.2.0",
            "_view_count": null,
            "flex_flow": null,
            "width": null,
            "min_width": null,
            "border": null,
            "align_items": null,
            "bottom": null,
            "_model_module": "@jupyter-widgets/base",
            "top": null,
            "grid_column": null,
            "overflow_y": null,
            "overflow_x": null,
            "grid_auto_flow": null,
            "grid_area": null,
            "grid_template_columns": null,
            "flex": null,
            "_model_name": "LayoutModel",
            "justify_items": null,
            "grid_row": null,
            "max_height": null,
            "align_content": null,
            "visibility": null,
            "align_self": null,
            "height": null,
            "min_height": null,
            "padding": null,
            "grid_auto_rows": null,
            "grid_gap": null,
            "max_width": null,
            "order": null,
            "_view_module_version": "1.2.0",
            "grid_template_areas": null,
            "object_position": null,
            "object_fit": null,
            "grid_auto_columns": null,
            "margin": null,
            "display": null,
            "left": null
          }
        },
        "4698137947c046029246358e76bde42c": {
          "model_module": "@jupyter-widgets/controls",
          "model_name": "HBoxModel",
          "state": {
            "_view_name": "HBoxView",
            "_dom_classes": [],
            "_model_name": "HBoxModel",
            "_view_module": "@jupyter-widgets/controls",
            "_model_module_version": "1.5.0",
            "_view_count": null,
            "_view_module_version": "1.5.0",
            "box_style": "",
            "layout": "IPY_MODEL_536e8381132c4f9aa94e76c0d0162fb0",
            "_model_module": "@jupyter-widgets/controls",
            "children": [
              "IPY_MODEL_146df606dae445218d75653d75abb439",
              "IPY_MODEL_020b10c96b374539b97fc623f8d08d42"
            ]
          }
        },
        "536e8381132c4f9aa94e76c0d0162fb0": {
          "model_module": "@jupyter-widgets/base",
          "model_name": "LayoutModel",
          "state": {
            "_view_name": "LayoutView",
            "grid_template_rows": null,
            "right": null,
            "justify_content": null,
            "_view_module": "@jupyter-widgets/base",
            "overflow": null,
            "_model_module_version": "1.2.0",
            "_view_count": null,
            "flex_flow": null,
            "width": null,
            "min_width": null,
            "border": null,
            "align_items": null,
            "bottom": null,
            "_model_module": "@jupyter-widgets/base",
            "top": null,
            "grid_column": null,
            "overflow_y": null,
            "overflow_x": null,
            "grid_auto_flow": null,
            "grid_area": null,
            "grid_template_columns": null,
            "flex": null,
            "_model_name": "LayoutModel",
            "justify_items": null,
            "grid_row": null,
            "max_height": null,
            "align_content": null,
            "visibility": null,
            "align_self": null,
            "height": null,
            "min_height": null,
            "padding": null,
            "grid_auto_rows": null,
            "grid_gap": null,
            "max_width": null,
            "order": null,
            "_view_module_version": "1.2.0",
            "grid_template_areas": null,
            "object_position": null,
            "object_fit": null,
            "grid_auto_columns": null,
            "margin": null,
            "display": null,
            "left": null
          }
        },
        "146df606dae445218d75653d75abb439": {
          "model_module": "@jupyter-widgets/controls",
          "model_name": "IntProgressModel",
          "state": {
            "_view_name": "ProgressView",
            "style": "IPY_MODEL_7f3db15765b84e8e9867ea795c8ec5e7",
            "_dom_classes": [],
            "description": "",
            "_model_name": "IntProgressModel",
            "bar_style": "success",
            "max": 1,
            "_view_module": "@jupyter-widgets/controls",
            "_model_module_version": "1.5.0",
            "value": 1,
            "_view_count": null,
            "_view_module_version": "1.5.0",
            "orientation": "horizontal",
            "min": 0,
            "description_tooltip": null,
            "_model_module": "@jupyter-widgets/controls",
            "layout": "IPY_MODEL_c976c90af2194829a4cd876ef14e36af"
          }
        },
        "020b10c96b374539b97fc623f8d08d42": {
          "model_module": "@jupyter-widgets/controls",
          "model_name": "HTMLModel",
          "state": {
            "_view_name": "HTMLView",
            "style": "IPY_MODEL_d7adbda4fa7a4b7bad81e71d86c5478c",
            "_dom_classes": [],
            "description": "",
            "_model_name": "HTMLModel",
            "placeholder": "​",
            "_view_module": "@jupyter-widgets/controls",
            "_model_module_version": "1.5.0",
            "value": "170500096it [00:03, 43097760.04it/s]",
            "_view_count": null,
            "_view_module_version": "1.5.0",
            "description_tooltip": null,
            "_model_module": "@jupyter-widgets/controls",
            "layout": "IPY_MODEL_1767ce9ac4c74d2a907ebc2fa6ddb923"
          }
        },
        "7f3db15765b84e8e9867ea795c8ec5e7": {
          "model_module": "@jupyter-widgets/controls",
          "model_name": "ProgressStyleModel",
          "state": {
            "_view_name": "StyleView",
            "_model_name": "ProgressStyleModel",
            "description_width": "",
            "_view_module": "@jupyter-widgets/base",
            "_model_module_version": "1.5.0",
            "_view_count": null,
            "_view_module_version": "1.2.0",
            "bar_color": null,
            "_model_module": "@jupyter-widgets/controls"
          }
        },
        "c976c90af2194829a4cd876ef14e36af": {
          "model_module": "@jupyter-widgets/base",
          "model_name": "LayoutModel",
          "state": {
            "_view_name": "LayoutView",
            "grid_template_rows": null,
            "right": null,
            "justify_content": null,
            "_view_module": "@jupyter-widgets/base",
            "overflow": null,
            "_model_module_version": "1.2.0",
            "_view_count": null,
            "flex_flow": null,
            "width": null,
            "min_width": null,
            "border": null,
            "align_items": null,
            "bottom": null,
            "_model_module": "@jupyter-widgets/base",
            "top": null,
            "grid_column": null,
            "overflow_y": null,
            "overflow_x": null,
            "grid_auto_flow": null,
            "grid_area": null,
            "grid_template_columns": null,
            "flex": null,
            "_model_name": "LayoutModel",
            "justify_items": null,
            "grid_row": null,
            "max_height": null,
            "align_content": null,
            "visibility": null,
            "align_self": null,
            "height": null,
            "min_height": null,
            "padding": null,
            "grid_auto_rows": null,
            "grid_gap": null,
            "max_width": null,
            "order": null,
            "_view_module_version": "1.2.0",
            "grid_template_areas": null,
            "object_position": null,
            "object_fit": null,
            "grid_auto_columns": null,
            "margin": null,
            "display": null,
            "left": null
          }
        },
        "d7adbda4fa7a4b7bad81e71d86c5478c": {
          "model_module": "@jupyter-widgets/controls",
          "model_name": "DescriptionStyleModel",
          "state": {
            "_view_name": "StyleView",
            "_model_name": "DescriptionStyleModel",
            "description_width": "",
            "_view_module": "@jupyter-widgets/base",
            "_model_module_version": "1.5.0",
            "_view_count": null,
            "_view_module_version": "1.2.0",
            "_model_module": "@jupyter-widgets/controls"
          }
        },
        "1767ce9ac4c74d2a907ebc2fa6ddb923": {
          "model_module": "@jupyter-widgets/base",
          "model_name": "LayoutModel",
          "state": {
            "_view_name": "LayoutView",
            "grid_template_rows": null,
            "right": null,
            "justify_content": null,
            "_view_module": "@jupyter-widgets/base",
            "overflow": null,
            "_model_module_version": "1.2.0",
            "_view_count": null,
            "flex_flow": null,
            "width": null,
            "min_width": null,
            "border": null,
            "align_items": null,
            "bottom": null,
            "_model_module": "@jupyter-widgets/base",
            "top": null,
            "grid_column": null,
            "overflow_y": null,
            "overflow_x": null,
            "grid_auto_flow": null,
            "grid_area": null,
            "grid_template_columns": null,
            "flex": null,
            "_model_name": "LayoutModel",
            "justify_items": null,
            "grid_row": null,
            "max_height": null,
            "align_content": null,
            "visibility": null,
            "align_self": null,
            "height": null,
            "min_height": null,
            "padding": null,
            "grid_auto_rows": null,
            "grid_gap": null,
            "max_width": null,
            "order": null,
            "_view_module_version": "1.2.0",
            "grid_template_areas": null,
            "object_position": null,
            "object_fit": null,
            "grid_auto_columns": null,
            "margin": null,
            "display": null,
            "left": null
          }
        }
      }
    }
  },
  "cells": [
    {
      "cell_type": "code",
      "metadata": {
        "id": "Q20Rk_7Zsl-z",
        "colab_type": "code",
        "colab": {}
      },
      "source": [
        "from torchvision import datasets,transforms"
      ],
      "execution_count": 0,
      "outputs": []
    },
    {
      "cell_type": "code",
      "metadata": {
        "id": "pHXw6Gwhsr4s",
        "colab_type": "code",
        "colab": {}
      },
      "source": [
        "transform=transforms.Compose([\n",
        "                              transforms.RandomHorizontalFlip(),\n",
        "                              transforms.RandomVerticalFlip(),\n",
        "                              transforms.ToTensor(),\n",
        "                              transforms.Normalize((0.5,0.5,0.5),(0.5,0.5,0.5))\n",
        "])"
      ],
      "execution_count": 0,
      "outputs": []
    },
    {
      "cell_type": "code",
      "metadata": {
        "id": "BW-EtrkatCDg",
        "colab_type": "code",
        "colab": {
          "base_uri": "https://localhost:8080/",
          "height": 193,
          "referenced_widgets": [
            "fe5fb7766b594e53a7069b15a703733f",
            "8fe1047d846b4e5ea23f85b6ebb4ef76",
            "913d4c56451342b5b9dfc7ea479b1c2f",
            "52cb2b61b9184af991b3a7e9a1fc34fc",
            "adf3977295914e03a5331d262aa2d050",
            "0ad5c7d20ae64bf5bb6db2b81b20d4f0",
            "9d0551abd2534553a68e882d317a88cb",
            "064e2e0806cf4fdfb9235acdc983d354",
            "4698137947c046029246358e76bde42c",
            "536e8381132c4f9aa94e76c0d0162fb0",
            "146df606dae445218d75653d75abb439",
            "020b10c96b374539b97fc623f8d08d42",
            "7f3db15765b84e8e9867ea795c8ec5e7",
            "c976c90af2194829a4cd876ef14e36af",
            "d7adbda4fa7a4b7bad81e71d86c5478c",
            "1767ce9ac4c74d2a907ebc2fa6ddb923"
          ]
        },
        "outputId": "ecb93b59-5d07-4848-fd20-eb22374d489c"
      },
      "source": [
        "training_data=datasets.CIFAR10('training_data/',download=True,train=True,transform=transform)\n",
        "testing_data=datasets.CIFAR10('testing_data/',download=True,train=False,transform=transform)"
      ],
      "execution_count": 4,
      "outputs": [
        {
          "output_type": "stream",
          "text": [
            "Downloading https://www.cs.toronto.edu/~kriz/cifar-10-python.tar.gz to training_data/cifar-10-python.tar.gz\n"
          ],
          "name": "stdout"
        },
        {
          "output_type": "display_data",
          "data": {
            "application/vnd.jupyter.widget-view+json": {
              "model_id": "fe5fb7766b594e53a7069b15a703733f",
              "version_minor": 0,
              "version_major": 2
            },
            "text/plain": [
              "HBox(children=(IntProgress(value=1, bar_style='info', max=1), HTML(value='')))"
            ]
          },
          "metadata": {
            "tags": []
          }
        },
        {
          "output_type": "stream",
          "text": [
            "\n",
            "Extracting training_data/cifar-10-python.tar.gz to training_data/\n",
            "Downloading https://www.cs.toronto.edu/~kriz/cifar-10-python.tar.gz to testing_data/cifar-10-python.tar.gz\n"
          ],
          "name": "stdout"
        },
        {
          "output_type": "display_data",
          "data": {
            "application/vnd.jupyter.widget-view+json": {
              "model_id": "4698137947c046029246358e76bde42c",
              "version_minor": 0,
              "version_major": 2
            },
            "text/plain": [
              "HBox(children=(IntProgress(value=1, bar_style='info', max=1), HTML(value='')))"
            ]
          },
          "metadata": {
            "tags": []
          }
        },
        {
          "output_type": "stream",
          "text": [
            "\n",
            "Extracting testing_data/cifar-10-python.tar.gz to testing_data/\n"
          ],
          "name": "stdout"
        }
      ]
    },
    {
      "cell_type": "code",
      "metadata": {
        "id": "GsianfdctceC",
        "colab_type": "code",
        "colab": {}
      },
      "source": [
        "import numpy as np\n",
        "num_workers=20\n",
        "batch_size=20\n",
        "valid_size=0.2\n",
        "\n",
        "num_train=len(training_data)\n",
        "indices=list(range(num_train))\n",
        "np.random.shuffle(indices)"
      ],
      "execution_count": 0,
      "outputs": []
    },
    {
      "cell_type": "code",
      "metadata": {
        "id": "9e3rPrnsuCz0",
        "colab_type": "code",
        "colab": {}
      },
      "source": [
        "split=int(np.floor(valid_size*num_train))"
      ],
      "execution_count": 0,
      "outputs": []
    },
    {
      "cell_type": "code",
      "metadata": {
        "id": "-s17nqmtuPvs",
        "colab_type": "code",
        "colab": {}
      },
      "source": [
        "valid_idx,train_idx=indices[:split],indices[split:]"
      ],
      "execution_count": 0,
      "outputs": []
    },
    {
      "cell_type": "code",
      "metadata": {
        "id": "6ynFOY-9uZF2",
        "colab_type": "code",
        "colab": {}
      },
      "source": [
        "from torch.utils.data.sampler import SubsetRandomSampler"
      ],
      "execution_count": 0,
      "outputs": []
    },
    {
      "cell_type": "code",
      "metadata": {
        "id": "difU3hMcufyT",
        "colab_type": "code",
        "colab": {}
      },
      "source": [
        "train_sampler=SubsetRandomSampler(train_idx)#randomly sample indices from a list of indices\n",
        "valid_sample=SubsetRandomSampler(valid_idx)"
      ],
      "execution_count": 0,
      "outputs": []
    },
    {
      "cell_type": "code",
      "metadata": {
        "id": "aUmGXvZ_uyhn",
        "colab_type": "code",
        "colab": {}
      },
      "source": [
        "from torch.utils.data import DataLoader"
      ],
      "execution_count": 0,
      "outputs": []
    },
    {
      "cell_type": "code",
      "metadata": {
        "id": "fH5S8Svgu2rt",
        "colab_type": "code",
        "colab": {}
      },
      "source": [
        "train_loader=DataLoader(training_data,batch_size=batch_size,sampler=train_sampler,num_workers=num_workers)"
      ],
      "execution_count": 0,
      "outputs": []
    },
    {
      "cell_type": "code",
      "metadata": {
        "id": "YlFTNgCJvJQK",
        "colab_type": "code",
        "colab": {}
      },
      "source": [
        "valid_loader=DataLoader(training_data,sampler=valid_sample,batch_size=batch_size,num_workers=num_workers)"
      ],
      "execution_count": 0,
      "outputs": []
    },
    {
      "cell_type": "code",
      "metadata": {
        "id": "6vEQX8w2vZN5",
        "colab_type": "code",
        "colab": {
          "base_uri": "https://localhost:8080/",
          "height": 36
        },
        "outputId": "a9b9d3b9-0021-4b1d-f548-fb857db22955"
      },
      "source": [
        "len(train_loader)"
      ],
      "execution_count": 13,
      "outputs": [
        {
          "output_type": "execute_result",
          "data": {
            "text/plain": [
              "2000"
            ]
          },
          "metadata": {
            "tags": []
          },
          "execution_count": 13
        }
      ]
    },
    {
      "cell_type": "code",
      "metadata": {
        "id": "TUg10c7rvkVq",
        "colab_type": "code",
        "colab": {
          "base_uri": "https://localhost:8080/",
          "height": 36
        },
        "outputId": "54a31acc-ec31-43f9-f2a1-9203597b33f3"
      },
      "source": [
        "len(valid_loader)"
      ],
      "execution_count": 14,
      "outputs": [
        {
          "output_type": "execute_result",
          "data": {
            "text/plain": [
              "500"
            ]
          },
          "metadata": {
            "tags": []
          },
          "execution_count": 14
        }
      ]
    },
    {
      "cell_type": "code",
      "metadata": {
        "id": "XGCxowQYvl40",
        "colab_type": "code",
        "colab": {}
      },
      "source": [
        "import torch.nn as nn"
      ],
      "execution_count": 0,
      "outputs": []
    },
    {
      "cell_type": "code",
      "metadata": {
        "id": "Y02ua4x0v37_",
        "colab_type": "code",
        "colab": {
          "base_uri": "https://localhost:8080/",
          "height": 1000
        },
        "outputId": "d79115cc-98d8-4b78-c660-cc3554062db1"
      },
      "source": [
        "from torch.optim import SGD\n",
        "import torch\n",
        "model=nn.Sequential(\n",
        "    nn.Conv2d(3,16,3,padding=1,stride=1),\n",
        "    nn.ReLU(),\n",
        "    nn.MaxPool2d(2,2),\n",
        "    nn.Dropout(p=0.2),\n",
        "    nn.Conv2d(16,32,3,padding=1,stride=1),\n",
        "    nn.ReLU(),\n",
        "    nn.MaxPool2d(2,2),\n",
        "    nn.Dropout(p=0.2),\n",
        "    nn.Conv2d(32,64,3,padding=1,stride=1),\n",
        "    nn.ReLU(),\n",
        "    nn.MaxPool2d(2,2),\n",
        "    nn.Flatten(),\n",
        "    nn.Linear(64*4*4,500),\n",
        "    nn.ReLU(),\n",
        "    nn.Dropout(p=0.2),\n",
        "    nn.Linear(500,10),\n",
        "    nn.LogSoftmax(dim=1)\n",
        ")\n",
        "criterion=nn.NLLLoss()\n",
        "optimizer=SGD(model.parameters(),lr=0.01)\n",
        "\n",
        "epochs=35\n",
        "model.cuda()\n",
        "training_loss=[]\n",
        "validation_loss=[]\n",
        "for epoch in range(epochs):\n",
        "  print('*'*10)\n",
        "  model.train()\n",
        "  print('TRAINING...')\n",
        "  epoch_training_loss=0\n",
        "  epoch_validation_loss=0\n",
        "  for images,labels in train_loader:\n",
        "    optimizer.zero_grad()\n",
        "    images,labels=images.cuda(),labels.cuda()\n",
        "    output=model.forward(images)\n",
        "    loss=criterion(output,labels)\n",
        "    epoch_training_loss+=loss.item()\n",
        "    loss.backward()\n",
        "    optimizer.step()\n",
        "  else:\n",
        "    train_loss=epoch_training_loss/len(train_loader)\n",
        "    training_loss.append(train_loss)\n",
        "    print(f'Epoch : {epoch}')\n",
        "    print(f'Training Loss : {train_loss}')\n",
        "  model.eval()\n",
        "  print('VALIDATING...')\n",
        "  for images,labels in valid_loader:\n",
        "    images,labels=images.cuda(),labels.cuda()\n",
        "    with torch.no_grad():\n",
        "      output=model.forward(images)\n",
        "      loss=criterion(output,labels)\n",
        "      epoch_validation_loss+=loss.item()\n",
        "  else:\n",
        "    val_loss=epoch_validation_loss/len(valid_loader)\n",
        "    validation_loss.append(val_loss)\n",
        "    print(f'Validation Loss : {val_loss}')"
      ],
      "execution_count": 37,
      "outputs": [
        {
          "output_type": "stream",
          "text": [
            "**********\n",
            "TRAINING...\n",
            "Epoch : 0\n",
            "Training Loss : 2.1268356358408926\n",
            "VALIDATING...\n",
            "Validation Loss : 1.86653901553154\n",
            "**********\n",
            "TRAINING...\n",
            "Epoch : 1\n",
            "Training Loss : 1.7588067920207977\n",
            "VALIDATING...\n",
            "Validation Loss : 1.6259063124656676\n",
            "**********\n",
            "TRAINING...\n",
            "Epoch : 2\n",
            "Training Loss : 1.5980817859768868\n",
            "VALIDATING...\n",
            "Validation Loss : 1.5167128695249557\n",
            "**********\n",
            "TRAINING...\n",
            "Epoch : 3\n",
            "Training Loss : 1.5047113194167614\n",
            "VALIDATING...\n",
            "Validation Loss : 1.4558767039775848\n",
            "**********\n",
            "TRAINING...\n",
            "Epoch : 4\n",
            "Training Loss : 1.4327619913816452\n",
            "VALIDATING...\n",
            "Validation Loss : 1.3881864495277405\n",
            "**********\n",
            "TRAINING...\n",
            "Epoch : 5\n",
            "Training Loss : 1.376037940353155\n",
            "VALIDATING...\n",
            "Validation Loss : 1.3165311549901961\n",
            "**********\n",
            "TRAINING...\n",
            "Epoch : 6\n",
            "Training Loss : 1.3295367542505265\n",
            "VALIDATING...\n",
            "Validation Loss : 1.2744453101158142\n",
            "**********\n",
            "TRAINING...\n",
            "Epoch : 7\n",
            "Training Loss : 1.283560849428177\n",
            "VALIDATING...\n",
            "Validation Loss : 1.2629843828678131\n",
            "**********\n",
            "TRAINING...\n",
            "Epoch : 8\n",
            "Training Loss : 1.240615106612444\n",
            "VALIDATING...\n",
            "Validation Loss : 1.1835908418893815\n",
            "**********\n",
            "TRAINING...\n",
            "Epoch : 9\n",
            "Training Loss : 1.206329005867243\n",
            "VALIDATING...\n",
            "Validation Loss : 1.142509992480278\n",
            "**********\n",
            "TRAINING...\n",
            "Epoch : 10\n",
            "Training Loss : 1.1656782577335834\n",
            "VALIDATING...\n",
            "Validation Loss : 1.1105562081336975\n",
            "**********\n",
            "TRAINING...\n",
            "Epoch : 11\n",
            "Training Loss : 1.135815697968006\n",
            "VALIDATING...\n",
            "Validation Loss : 1.0625259015560151\n",
            "**********\n",
            "TRAINING...\n",
            "Epoch : 12\n",
            "Training Loss : 1.1088211701363324\n",
            "VALIDATING...\n",
            "Validation Loss : 1.0665377296209335\n",
            "**********\n",
            "TRAINING...\n",
            "Epoch : 13\n",
            "Training Loss : 1.0753994159698486\n",
            "VALIDATING...\n",
            "Validation Loss : 1.0473844361305238\n",
            "**********\n",
            "TRAINING...\n",
            "Epoch : 14\n",
            "Training Loss : 1.0543066736459732\n",
            "VALIDATING...\n",
            "Validation Loss : 0.9958237785100937\n",
            "**********\n",
            "TRAINING...\n",
            "Epoch : 15\n",
            "Training Loss : 1.032303104057908\n",
            "VALIDATING...\n",
            "Validation Loss : 0.9886717191934585\n",
            "**********\n",
            "TRAINING...\n",
            "Epoch : 16\n",
            "Training Loss : 1.0075060395896436\n",
            "VALIDATING...\n",
            "Validation Loss : 0.9817903672456741\n",
            "**********\n",
            "TRAINING...\n",
            "Epoch : 17\n",
            "Training Loss : 0.9931634966731071\n",
            "VALIDATING...\n",
            "Validation Loss : 0.9336808338165283\n",
            "**********\n",
            "TRAINING...\n",
            "Epoch : 18\n",
            "Training Loss : 0.9721961263418197\n",
            "VALIDATING...\n",
            "Validation Loss : 0.9447755270004272\n",
            "**********\n",
            "TRAINING...\n",
            "Epoch : 19\n",
            "Training Loss : 0.9519397679269314\n",
            "VALIDATING...\n",
            "Validation Loss : 0.9253516073822975\n",
            "**********\n",
            "TRAINING...\n",
            "Epoch : 20\n",
            "Training Loss : 0.9345041011869908\n",
            "VALIDATING...\n",
            "Validation Loss : 0.9293813244700432\n",
            "**********\n",
            "TRAINING...\n",
            "Epoch : 21\n",
            "Training Loss : 0.9203796156793833\n",
            "VALIDATING...\n",
            "Validation Loss : 0.8855806632041932\n",
            "**********\n",
            "TRAINING...\n",
            "Epoch : 22\n",
            "Training Loss : 0.9070682970955968\n",
            "VALIDATING...\n",
            "Validation Loss : 0.9247821080684662\n",
            "**********\n",
            "TRAINING...\n",
            "Epoch : 23\n",
            "Training Loss : 0.8883937189877034\n",
            "VALIDATING...\n",
            "Validation Loss : 0.8712600671648979\n",
            "**********\n",
            "TRAINING...\n",
            "Epoch : 24\n",
            "Training Loss : 0.8756068922281265\n",
            "VALIDATING...\n",
            "Validation Loss : 0.9281745335459709\n",
            "**********\n",
            "TRAINING...\n",
            "Epoch : 25\n",
            "Training Loss : 0.8651457470580936\n",
            "VALIDATING...\n",
            "Validation Loss : 0.8396260724663734\n",
            "**********\n",
            "TRAINING...\n",
            "Epoch : 26\n",
            "Training Loss : 0.8542926061078906\n",
            "VALIDATING...\n",
            "Validation Loss : 0.8413137504160404\n",
            "**********\n",
            "TRAINING...\n",
            "Epoch : 27\n",
            "Training Loss : 0.8396702806502581\n",
            "VALIDATING...\n",
            "Validation Loss : 0.8224721908569336\n",
            "**********\n",
            "TRAINING...\n",
            "Epoch : 28\n",
            "Training Loss : 0.8266422997266054\n",
            "VALIDATING...\n",
            "Validation Loss : 0.8200221750736236\n",
            "**********\n",
            "TRAINING...\n",
            "Epoch : 29\n",
            "Training Loss : 0.8141842593103648\n",
            "VALIDATING...\n",
            "Validation Loss : 0.8433915460109711\n",
            "**********\n",
            "TRAINING...\n",
            "Epoch : 30\n",
            "Training Loss : 0.8089927621930838\n",
            "VALIDATING...\n",
            "Validation Loss : 0.8079808334708214\n",
            "**********\n",
            "TRAINING...\n",
            "Epoch : 31\n",
            "Training Loss : 0.7976356164738536\n",
            "VALIDATING...\n",
            "Validation Loss : 0.8115857852101326\n",
            "**********\n",
            "TRAINING...\n",
            "Epoch : 32\n",
            "Training Loss : 0.7888119276762009\n",
            "VALIDATING...\n",
            "Validation Loss : 0.7920977382063865\n",
            "**********\n",
            "TRAINING...\n",
            "Epoch : 33\n",
            "Training Loss : 0.7800416463315487\n",
            "VALIDATING...\n",
            "Validation Loss : 0.789851647734642\n",
            "**********\n",
            "TRAINING...\n",
            "Epoch : 34\n",
            "Training Loss : 0.7703390532433987\n",
            "VALIDATING...\n",
            "Validation Loss : 0.7712825034558773\n"
          ],
          "name": "stdout"
        }
      ]
    },
    {
      "cell_type": "code",
      "metadata": {
        "id": "cucbxqRu0T0h",
        "colab_type": "code",
        "colab": {
          "base_uri": "https://localhost:8080/",
          "height": 287
        },
        "outputId": "c21ad486-a27d-433c-ab0b-4c6073c2d201"
      },
      "source": [
        "import matplotlib.pyplot as plt\n",
        "plt.plot(training_loss)\n",
        "plt.plot(validation_loss)"
      ],
      "execution_count": 25,
      "outputs": [
        {
          "output_type": "execute_result",
          "data": {
            "text/plain": [
              "[<matplotlib.lines.Line2D at 0x7f27a12d6358>]"
            ]
          },
          "metadata": {
            "tags": []
          },
          "execution_count": 25
        },
        {
          "output_type": "display_data",
          "data": {
            "image/png": "[encoded data removed]",
            "text/plain": [
              "<Figure size 432x288 with 1 Axes>"
            ]
          },
          "metadata": {
            "tags": []
          }
        }
      ]
    },
    {
      "cell_type": "code",
      "metadata": {
        "id": "MfWDGc990MoI",
        "colab_type": "code",
        "colab": {
          "base_uri": "https://localhost:8080/",
          "height": 286
        },
        "outputId": "b08ba98b-e6cc-4f70-f14a-3a7591aea9f5"
      },
      "source": [
        "import matplotlib.pyplot as plt\n",
        "plt.plot(training_loss)\n",
        "plt.plot(validation_loss)"
      ],
      "execution_count": 27,
      "outputs": [
        {
          "output_type": "execute_result",
          "data": {
            "text/plain": [
              "[<matplotlib.lines.Line2D at 0x7f27a1aa95c0>]"
            ]
          },
          "metadata": {
            "tags": []
          },
          "execution_count": 27
        },
        {
          "output_type": "display_data",
          "data": {
            "image/png": "[encoded data removed]",
            "text/plain": [
              "<Figure size 432x288 with 1 Axes>"
            ]
          },
          "metadata": {
            "tags": []
          }
        }
      ]
    },
    {
      "cell_type": "code",
      "metadata": {
        "id": "5c_Of3ha6JeO",
        "colab_type": "code",
        "colab": {
          "base_uri": "https://localhost:8080/",
          "height": 287
        },
        "outputId": "859dea05-0a75-430a-d397-8c8b2634a771"
      },
      "source": [
        "import matplotlib.pyplot as plt\n",
        "plt.plot(training_loss)\n",
        "plt.plot(validation_loss)"
      ],
      "execution_count": 29,
      "outputs": [
        {
          "output_type": "execute_result",
          "data": {
            "text/plain": [
              "[<matplotlib.lines.Line2D at 0x7f27a1a14630>]"
            ]
          },
          "metadata": {
            "tags": []
          },
          "execution_count": 29
        },
        {
          "output_type": "display_data",
          "data": {
            "image/png": "[encoded data removed]",
            "text/plain": [
              "<Figure size 432x288 with 1 Axes>"
            ]
          },
          "metadata": {
            "tags": []
          }
        }
      ]
    },
    {
      "cell_type": "code",
      "metadata": {
        "id": "6yX38AmO7jei",
        "colab_type": "code",
        "colab": {
          "base_uri": "https://localhost:8080/",
          "height": 284
        },
        "outputId": "37fba6a1-6c3c-40df-8fb7-6bf82fe1d84a"
      },
      "source": [
        "import matplotlib.pyplot as plt\n",
        "plt.plot(training_loss)\n",
        "plt.plot(validation_loss)"
      ],
      "execution_count": 31,
      "outputs": [
        {
          "output_type": "execute_result",
          "data": {
            "text/plain": [
              "[<matplotlib.lines.Line2D at 0x7f27a1981940>]"
            ]
          },
          "metadata": {
            "tags": []
          },
          "execution_count": 31
        },
        {
          "output_type": "display_data",
          "data": {
            "image/png": "[encoded data removed]",
            "text/plain": [
              "<Figure size 432x288 with 1 Axes>"
            ]
          },
          "metadata": {
            "tags": []
          }
        }
      ]
    },
    {
      "cell_type": "code",
      "metadata": {
        "id": "rJflGZBA9cDf",
        "colab_type": "code",
        "colab": {
          "base_uri": "https://localhost:8080/",
          "height": 287
        },
        "outputId": "563af76b-fca2-4bb0-cf31-7298d6e31dce"
      },
      "source": [
        "import matplotlib.pyplot as plt\n",
        "plt.plot(training_loss)\n",
        "plt.plot(validation_loss)"
      ],
      "execution_count": 34,
      "outputs": [
        {
          "output_type": "execute_result",
          "data": {
            "text/plain": [
              "[<matplotlib.lines.Line2D at 0x7f27a192f6d8>]"
            ]
          },
          "metadata": {
            "tags": []
          },
          "execution_count": 34
        },
        {
          "output_type": "display_data",
          "data": {
            "image/png": "[encoded data removed]",
            "text/plain": [
              "<Figure size 432x288 with 1 Axes>"
            ]
          },
          "metadata": {
            "tags": []
          }
        }
      ]
    },
    {
      "cell_type": "code",
      "metadata": {
        "id": "efxGS2x39d7u",
        "colab_type": "code",
        "colab": {
          "base_uri": "https://localhost:8080/",
          "height": 288
        },
        "outputId": "96fa283f-c2f6-42b5-bdee-52982ee01002"
      },
      "source": [
        "import matplotlib.pyplot as plt\n",
        "plt.plot(training_loss)\n",
        "plt.plot(validation_loss)"
      ],
      "execution_count": 36,
      "outputs": [
        {
          "output_type": "execute_result",
          "data": {
            "text/plain": [
              "[<matplotlib.lines.Line2D at 0x7f27a18886d8>]"
            ]
          },
          "metadata": {
            "tags": []
          },
          "execution_count": 36
        },
        {
          "output_type": "display_data",
          "data": {
            "image/png": "[encoded data removed]",
            "text/plain": [
              "<Figure size 432x288 with 1 Axes>"
            ]
          },
          "metadata": {
            "tags": []
          }
        }
      ]
    },
    {
      "cell_type": "code",
      "metadata": {
        "id": "c0qpV3u0BhQB",
        "colab_type": "code",
        "colab": {
          "base_uri": "https://localhost:8080/",
          "height": 284
        },
        "outputId": "3dc50b48-2b06-4f66-e504-8db1cb22e90c"
      },
      "source": [
        "import matplotlib.pyplot as plt\n",
        "plt.plot(training_loss)\n",
        "plt.plot(validation_loss)"
      ],
      "execution_count": 38,
      "outputs": [
        {
          "output_type": "execute_result",
          "data": {
            "text/plain": [
              "[<matplotlib.lines.Line2D at 0x7f27a1869048>]"
            ]
          },
          "metadata": {
            "tags": []
          },
          "execution_count": 38
        },
        {
          "output_type": "display_data",
          "data": {
            "image/png": "[encoded data removed]",
            "text/plain": [
              "<Figure size 432x288 with 1 Axes>"
            ]
          },
          "metadata": {
            "tags": []
          }
        }
      ]
    },
    {
      "cell_type": "code",
      "metadata": {
        "id": "j20bMH2IwZMx",
        "colab_type": "code",
        "colab": {}
      },
      "source": [
        "images,labels =next(iter(train_loader))"
      ],
      "execution_count": 0,
      "outputs": []
    },
    {
      "cell_type": "code",
      "metadata": {
        "id": "09MJJhUfwgMC",
        "colab_type": "code",
        "colab": {}
      },
      "source": [
        "output=model.forward(images)"
      ],
      "execution_count": 0,
      "outputs": []
    },
    {
      "cell_type": "code",
      "metadata": {
        "id": "emphqU0KwwWf",
        "colab_type": "code",
        "colab": {
          "base_uri": "https://localhost:8080/",
          "height": 36
        },
        "outputId": "3d357d4c-7fd1-43a0-a080-5e2d3e65a4f1"
      },
      "source": [
        "output.shape"
      ],
      "execution_count": 34,
      "outputs": [
        {
          "output_type": "execute_result",
          "data": {
            "text/plain": [
              "torch.Size([20, 10])"
            ]
          },
          "metadata": {
            "tags": []
          },
          "execution_count": 34
        }
      ]
    },
    {
      "cell_type": "code",
      "metadata": {
        "id": "YlL-d2hYwx_Y",
        "colab_type": "code",
        "colab": {
          "base_uri": "https://localhost:8080/",
          "height": 36
        },
        "outputId": "c84a613f-0fd0-4143-c6a0-f48ead4083b2"
      },
      "source": [
        "labels.shape"
      ],
      "execution_count": 35,
      "outputs": [
        {
          "output_type": "execute_result",
          "data": {
            "text/plain": [
              "torch.Size([20])"
            ]
          },
          "metadata": {
            "tags": []
          },
          "execution_count": 35
        }
      ]
    },
    {
      "cell_type": "code",
      "metadata": {
        "id": "NMYUl-5Ew1nd",
        "colab_type": "code",
        "colab": {
          "base_uri": "https://localhost:8080/",
          "height": 54
        },
        "outputId": "48a1853f-8a4e-4368-e757-5dd4e0746ee0"
      },
      "source": [
        "import torch\n",
        "import numpy as np\n",
        "with torch.no_grad():\n",
        "  output=model.forward(images)\n",
        "  print(np.argmax(output[1]).item())\n",
        "  print(labels[1].item())"
      ],
      "execution_count": 52,
      "outputs": [
        {
          "output_type": "stream",
          "text": [
            "8\n",
            "0\n"
          ],
          "name": "stdout"
        }
      ]
    },
    {
      "cell_type": "code",
      "metadata": {
        "id": "KAWWbQGTx10n",
        "colab_type": "code",
        "colab": {}
      },
      "source": [
        ""
      ],
      "execution_count": 0,
      "outputs": []
    },
    {
      "cell_type": "code",
      "metadata": {
        "id": "yUGNJhxFxrDF",
        "colab_type": "code",
        "colab": {}
      },
      "source": [
        ""
      ],
      "execution_count": 0,
      "outputs": []
    },
    {
      "cell_type": "code",
      "metadata": {
        "id": "SxuvnWOIxVqT",
        "colab_type": "code",
        "colab": {}
      },
      "source": [
        ""
      ],
      "execution_count": 0,
      "outputs": []
    },
    {
      "cell_type": "code",
      "metadata": {
        "id": "ECUnnRttxKjC",
        "colab_type": "code",
        "colab": {}
      },
      "source": [
        ""
      ],
      "execution_count": 0,
      "outputs": []
    },
    {
      "cell_type": "code",
      "metadata": {
        "id": "C0cK7PuGw-rn",
        "colab_type": "code",
        "colab": {}
      },
      "source": [
        ""
      ],
      "execution_count": 0,
      "outputs": []
    },
    {
      "cell_type": "code",
      "metadata": {
        "id": "heZ0ZvzAw50z",
        "colab_type": "code",
        "colab": {}
      },
      "source": [
        ""
      ],
      "execution_count": 0,
      "outputs": []
    },
    {
      "cell_type": "code",
      "metadata": {
        "id": "6F6tTlsQw4n3",
        "colab_type": "code",
        "colab": {}
      },
      "source": [
        ""
      ],
      "execution_count": 0,
      "outputs": []
    }
  ]
}